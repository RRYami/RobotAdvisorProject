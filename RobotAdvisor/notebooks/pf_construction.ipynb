{
 "cells": [
  {
   "cell_type": "markdown",
   "metadata": {},
   "source": [
    "### Imports"
   ]
  },
  {
   "cell_type": "code",
   "execution_count": 36,
   "metadata": {},
   "outputs": [],
   "source": [
    "import numpy as np\n",
    "import plotly.graph_objects as go\n",
    "import plotly.express as px\n",
    "import pandas as pd\n",
    "import yfinance as yf\n",
    "import matplotlib.pyplot as plt"
   ]
  },
  {
   "cell_type": "markdown",
   "metadata": {},
   "source": [
    "# Estimate Expected Return of stocks from CAPM"
   ]
  },
  {
   "cell_type": "code",
   "execution_count": 2,
   "metadata": {},
   "outputs": [
    {
     "name": "stderr",
     "output_type": "stream",
     "text": [
      "[*********************100%%**********************]  10 of 10 completed\n"
     ]
    }
   ],
   "source": [
    "tickers = ['AAPL', 'MSFT', 'GOOGL', 'AMZN', 'META', 'TSLA', 'NVDA','AMD', 'QCOM', '^SPX']\n",
    "data = yf.download(tickers, start= '2013-01-01')['Adj Close']"
   ]
  },
  {
   "cell_type": "code",
   "execution_count": 3,
   "metadata": {},
   "outputs": [
    {
     "data": {
      "text/html": [
       "<div>\n",
       "<style scoped>\n",
       "    .dataframe tbody tr th:only-of-type {\n",
       "        vertical-align: middle;\n",
       "    }\n",
       "\n",
       "    .dataframe tbody tr th {\n",
       "        vertical-align: top;\n",
       "    }\n",
       "\n",
       "    .dataframe thead th {\n",
       "        text-align: right;\n",
       "    }\n",
       "</style>\n",
       "<table border=\"1\" class=\"dataframe\">\n",
       "  <thead>\n",
       "    <tr style=\"text-align: right;\">\n",
       "      <th>Ticker</th>\n",
       "      <th>AAPL</th>\n",
       "      <th>AMD</th>\n",
       "      <th>AMZN</th>\n",
       "      <th>GOOGL</th>\n",
       "      <th>META</th>\n",
       "      <th>MSFT</th>\n",
       "      <th>NVDA</th>\n",
       "      <th>QCOM</th>\n",
       "      <th>TSLA</th>\n",
       "      <th>^SPX</th>\n",
       "    </tr>\n",
       "    <tr>\n",
       "      <th>Date</th>\n",
       "      <th></th>\n",
       "      <th></th>\n",
       "      <th></th>\n",
       "      <th></th>\n",
       "      <th></th>\n",
       "      <th></th>\n",
       "      <th></th>\n",
       "      <th></th>\n",
       "      <th></th>\n",
       "      <th></th>\n",
       "    </tr>\n",
       "  </thead>\n",
       "  <tbody>\n",
       "    <tr>\n",
       "      <th>2013-01-02</th>\n",
       "      <td>16.687349</td>\n",
       "      <td>2.530000</td>\n",
       "      <td>12.865500</td>\n",
       "      <td>18.033974</td>\n",
       "      <td>27.893450</td>\n",
       "      <td>22.406958</td>\n",
       "      <td>0.293515</td>\n",
       "      <td>46.503189</td>\n",
       "      <td>2.357333</td>\n",
       "      <td>1462.420044</td>\n",
       "    </tr>\n",
       "    <tr>\n",
       "      <th>2013-01-03</th>\n",
       "      <td>16.476715</td>\n",
       "      <td>2.490000</td>\n",
       "      <td>12.924000</td>\n",
       "      <td>18.044447</td>\n",
       "      <td>27.664324</td>\n",
       "      <td>22.106796</td>\n",
       "      <td>0.293745</td>\n",
       "      <td>46.287724</td>\n",
       "      <td>2.318000</td>\n",
       "      <td>1459.369995</td>\n",
       "    </tr>\n",
       "    <tr>\n",
       "      <th>2013-01-04</th>\n",
       "      <td>16.017757</td>\n",
       "      <td>2.590000</td>\n",
       "      <td>12.957500</td>\n",
       "      <td>18.401012</td>\n",
       "      <td>28.650557</td>\n",
       "      <td>21.693050</td>\n",
       "      <td>0.303437</td>\n",
       "      <td>45.605450</td>\n",
       "      <td>2.293333</td>\n",
       "      <td>1466.469971</td>\n",
       "    </tr>\n",
       "    <tr>\n",
       "      <th>2013-01-07</th>\n",
       "      <td>15.923534</td>\n",
       "      <td>2.670000</td>\n",
       "      <td>13.423000</td>\n",
       "      <td>18.320721</td>\n",
       "      <td>29.308044</td>\n",
       "      <td>21.652489</td>\n",
       "      <td>0.294668</td>\n",
       "      <td>45.971722</td>\n",
       "      <td>2.289333</td>\n",
       "      <td>1461.890015</td>\n",
       "    </tr>\n",
       "    <tr>\n",
       "      <th>2013-01-08</th>\n",
       "      <td>15.966396</td>\n",
       "      <td>2.670000</td>\n",
       "      <td>13.319000</td>\n",
       "      <td>18.284567</td>\n",
       "      <td>28.949413</td>\n",
       "      <td>21.538918</td>\n",
       "      <td>0.288207</td>\n",
       "      <td>45.899914</td>\n",
       "      <td>2.245333</td>\n",
       "      <td>1457.150024</td>\n",
       "    </tr>\n",
       "    <tr>\n",
       "      <th>...</th>\n",
       "      <td>...</td>\n",
       "      <td>...</td>\n",
       "      <td>...</td>\n",
       "      <td>...</td>\n",
       "      <td>...</td>\n",
       "      <td>...</td>\n",
       "      <td>...</td>\n",
       "      <td>...</td>\n",
       "      <td>...</td>\n",
       "      <td>...</td>\n",
       "    </tr>\n",
       "    <tr>\n",
       "      <th>2025-01-27</th>\n",
       "      <td>229.860001</td>\n",
       "      <td>115.010002</td>\n",
       "      <td>235.419998</td>\n",
       "      <td>191.809998</td>\n",
       "      <td>659.880005</td>\n",
       "      <td>434.559998</td>\n",
       "      <td>118.419998</td>\n",
       "      <td>171.179993</td>\n",
       "      <td>397.149994</td>\n",
       "      <td>6012.279785</td>\n",
       "    </tr>\n",
       "    <tr>\n",
       "      <th>2025-01-28</th>\n",
       "      <td>238.259995</td>\n",
       "      <td>114.169998</td>\n",
       "      <td>238.149994</td>\n",
       "      <td>195.300003</td>\n",
       "      <td>674.330017</td>\n",
       "      <td>447.200012</td>\n",
       "      <td>128.990005</td>\n",
       "      <td>171.550003</td>\n",
       "      <td>398.089996</td>\n",
       "      <td>6067.700195</td>\n",
       "    </tr>\n",
       "    <tr>\n",
       "      <th>2025-01-29</th>\n",
       "      <td>239.360001</td>\n",
       "      <td>117.349998</td>\n",
       "      <td>237.070007</td>\n",
       "      <td>195.410004</td>\n",
       "      <td>676.489990</td>\n",
       "      <td>442.329987</td>\n",
       "      <td>123.699997</td>\n",
       "      <td>171.710007</td>\n",
       "      <td>389.100006</td>\n",
       "      <td>6039.310059</td>\n",
       "    </tr>\n",
       "    <tr>\n",
       "      <th>2025-01-30</th>\n",
       "      <td>237.589996</td>\n",
       "      <td>118.860001</td>\n",
       "      <td>234.639999</td>\n",
       "      <td>200.869995</td>\n",
       "      <td>687.000000</td>\n",
       "      <td>414.989990</td>\n",
       "      <td>124.650002</td>\n",
       "      <td>171.929993</td>\n",
       "      <td>400.279999</td>\n",
       "      <td>6071.169922</td>\n",
       "    </tr>\n",
       "    <tr>\n",
       "      <th>2025-01-31</th>\n",
       "      <td>236.000000</td>\n",
       "      <td>115.949997</td>\n",
       "      <td>237.679993</td>\n",
       "      <td>204.020004</td>\n",
       "      <td>689.179993</td>\n",
       "      <td>415.059998</td>\n",
       "      <td>120.070000</td>\n",
       "      <td>172.929993</td>\n",
       "      <td>404.600006</td>\n",
       "      <td>6040.529785</td>\n",
       "    </tr>\n",
       "  </tbody>\n",
       "</table>\n",
       "<p>3040 rows × 10 columns</p>\n",
       "</div>"
      ],
      "text/plain": [
       "Ticker            AAPL         AMD        AMZN       GOOGL        META  \\\n",
       "Date                                                                     \n",
       "2013-01-02   16.687349    2.530000   12.865500   18.033974   27.893450   \n",
       "2013-01-03   16.476715    2.490000   12.924000   18.044447   27.664324   \n",
       "2013-01-04   16.017757    2.590000   12.957500   18.401012   28.650557   \n",
       "2013-01-07   15.923534    2.670000   13.423000   18.320721   29.308044   \n",
       "2013-01-08   15.966396    2.670000   13.319000   18.284567   28.949413   \n",
       "...                ...         ...         ...         ...         ...   \n",
       "2025-01-27  229.860001  115.010002  235.419998  191.809998  659.880005   \n",
       "2025-01-28  238.259995  114.169998  238.149994  195.300003  674.330017   \n",
       "2025-01-29  239.360001  117.349998  237.070007  195.410004  676.489990   \n",
       "2025-01-30  237.589996  118.860001  234.639999  200.869995  687.000000   \n",
       "2025-01-31  236.000000  115.949997  237.679993  204.020004  689.179993   \n",
       "\n",
       "Ticker            MSFT        NVDA        QCOM        TSLA         ^SPX  \n",
       "Date                                                                     \n",
       "2013-01-02   22.406958    0.293515   46.503189    2.357333  1462.420044  \n",
       "2013-01-03   22.106796    0.293745   46.287724    2.318000  1459.369995  \n",
       "2013-01-04   21.693050    0.303437   45.605450    2.293333  1466.469971  \n",
       "2013-01-07   21.652489    0.294668   45.971722    2.289333  1461.890015  \n",
       "2013-01-08   21.538918    0.288207   45.899914    2.245333  1457.150024  \n",
       "...                ...         ...         ...         ...          ...  \n",
       "2025-01-27  434.559998  118.419998  171.179993  397.149994  6012.279785  \n",
       "2025-01-28  447.200012  128.990005  171.550003  398.089996  6067.700195  \n",
       "2025-01-29  442.329987  123.699997  171.710007  389.100006  6039.310059  \n",
       "2025-01-30  414.989990  124.650002  171.929993  400.279999  6071.169922  \n",
       "2025-01-31  415.059998  120.070000  172.929993  404.600006  6040.529785  \n",
       "\n",
       "[3040 rows x 10 columns]"
      ]
     },
     "execution_count": 3,
     "metadata": {},
     "output_type": "execute_result"
    }
   ],
   "source": [
    "data"
   ]
  },
  {
   "cell_type": "code",
   "execution_count": 4,
   "metadata": {},
   "outputs": [
    {
     "data": {
      "text/html": [
       "<div>\n",
       "<style scoped>\n",
       "    .dataframe tbody tr th:only-of-type {\n",
       "        vertical-align: middle;\n",
       "    }\n",
       "\n",
       "    .dataframe tbody tr th {\n",
       "        vertical-align: top;\n",
       "    }\n",
       "\n",
       "    .dataframe thead th {\n",
       "        text-align: right;\n",
       "    }\n",
       "</style>\n",
       "<table border=\"1\" class=\"dataframe\">\n",
       "  <thead>\n",
       "    <tr style=\"text-align: right;\">\n",
       "      <th>Ticker</th>\n",
       "      <th>AAPL</th>\n",
       "      <th>AMD</th>\n",
       "      <th>AMZN</th>\n",
       "      <th>GOOGL</th>\n",
       "      <th>META</th>\n",
       "      <th>MSFT</th>\n",
       "      <th>NVDA</th>\n",
       "      <th>QCOM</th>\n",
       "      <th>TSLA</th>\n",
       "      <th>^SPX</th>\n",
       "    </tr>\n",
       "    <tr>\n",
       "      <th>Date</th>\n",
       "      <th></th>\n",
       "      <th></th>\n",
       "      <th></th>\n",
       "      <th></th>\n",
       "      <th></th>\n",
       "      <th></th>\n",
       "      <th></th>\n",
       "      <th></th>\n",
       "      <th></th>\n",
       "      <th></th>\n",
       "    </tr>\n",
       "  </thead>\n",
       "  <tbody>\n",
       "    <tr>\n",
       "      <th>2013-01-03</th>\n",
       "      <td>-0.012703</td>\n",
       "      <td>-0.015937</td>\n",
       "      <td>0.004537</td>\n",
       "      <td>0.000581</td>\n",
       "      <td>-0.008248</td>\n",
       "      <td>-0.013486</td>\n",
       "      <td>0.000786</td>\n",
       "      <td>-0.004644</td>\n",
       "      <td>-0.016826</td>\n",
       "      <td>-0.002088</td>\n",
       "    </tr>\n",
       "    <tr>\n",
       "      <th>2013-01-04</th>\n",
       "      <td>-0.028250</td>\n",
       "      <td>0.039375</td>\n",
       "      <td>0.002589</td>\n",
       "      <td>0.019568</td>\n",
       "      <td>0.035029</td>\n",
       "      <td>-0.018893</td>\n",
       "      <td>0.032460</td>\n",
       "      <td>-0.014850</td>\n",
       "      <td>-0.010699</td>\n",
       "      <td>0.004853</td>\n",
       "    </tr>\n",
       "    <tr>\n",
       "      <th>2013-01-07</th>\n",
       "      <td>-0.005900</td>\n",
       "      <td>0.030421</td>\n",
       "      <td>0.035295</td>\n",
       "      <td>-0.004373</td>\n",
       "      <td>0.022689</td>\n",
       "      <td>-0.001872</td>\n",
       "      <td>-0.029324</td>\n",
       "      <td>0.007999</td>\n",
       "      <td>-0.001746</td>\n",
       "      <td>-0.003128</td>\n",
       "    </tr>\n",
       "    <tr>\n",
       "      <th>2013-01-08</th>\n",
       "      <td>0.002688</td>\n",
       "      <td>0.000000</td>\n",
       "      <td>-0.007778</td>\n",
       "      <td>-0.001975</td>\n",
       "      <td>-0.012312</td>\n",
       "      <td>-0.005259</td>\n",
       "      <td>-0.022170</td>\n",
       "      <td>-0.001563</td>\n",
       "      <td>-0.019407</td>\n",
       "      <td>-0.003248</td>\n",
       "    </tr>\n",
       "    <tr>\n",
       "      <th>2013-01-09</th>\n",
       "      <td>-0.015753</td>\n",
       "      <td>-0.015095</td>\n",
       "      <td>-0.000113</td>\n",
       "      <td>0.006552</td>\n",
       "      <td>0.051311</td>\n",
       "      <td>0.005634</td>\n",
       "      <td>-0.022673</td>\n",
       "      <td>0.015063</td>\n",
       "      <td>-0.001188</td>\n",
       "      <td>0.002652</td>\n",
       "    </tr>\n",
       "    <tr>\n",
       "      <th>...</th>\n",
       "      <td>...</td>\n",
       "      <td>...</td>\n",
       "      <td>...</td>\n",
       "      <td>...</td>\n",
       "      <td>...</td>\n",
       "      <td>...</td>\n",
       "      <td>...</td>\n",
       "      <td>...</td>\n",
       "      <td>...</td>\n",
       "      <td>...</td>\n",
       "    </tr>\n",
       "    <tr>\n",
       "      <th>2025-01-27</th>\n",
       "      <td>0.031286</td>\n",
       "      <td>-0.065864</td>\n",
       "      <td>0.002424</td>\n",
       "      <td>-0.042862</td>\n",
       "      <td>0.018955</td>\n",
       "      <td>-0.021626</td>\n",
       "      <td>-0.185946</td>\n",
       "      <td>-0.005418</td>\n",
       "      <td>-0.023467</td>\n",
       "      <td>-0.014688</td>\n",
       "    </tr>\n",
       "    <tr>\n",
       "      <th>2025-01-28</th>\n",
       "      <td>0.035892</td>\n",
       "      <td>-0.007331</td>\n",
       "      <td>0.011530</td>\n",
       "      <td>0.018032</td>\n",
       "      <td>0.021662</td>\n",
       "      <td>0.028672</td>\n",
       "      <td>0.085497</td>\n",
       "      <td>0.002159</td>\n",
       "      <td>0.002364</td>\n",
       "      <td>0.009176</td>\n",
       "    </tr>\n",
       "    <tr>\n",
       "      <th>2025-01-29</th>\n",
       "      <td>0.004606</td>\n",
       "      <td>0.027472</td>\n",
       "      <td>-0.004545</td>\n",
       "      <td>0.000563</td>\n",
       "      <td>0.003198</td>\n",
       "      <td>-0.010950</td>\n",
       "      <td>-0.041876</td>\n",
       "      <td>0.000932</td>\n",
       "      <td>-0.022842</td>\n",
       "      <td>-0.004690</td>\n",
       "    </tr>\n",
       "    <tr>\n",
       "      <th>2025-01-30</th>\n",
       "      <td>-0.007422</td>\n",
       "      <td>0.012785</td>\n",
       "      <td>-0.010303</td>\n",
       "      <td>0.027558</td>\n",
       "      <td>0.015417</td>\n",
       "      <td>-0.063802</td>\n",
       "      <td>0.007651</td>\n",
       "      <td>0.001280</td>\n",
       "      <td>0.028328</td>\n",
       "      <td>0.005262</td>\n",
       "    </tr>\n",
       "    <tr>\n",
       "      <th>2025-01-31</th>\n",
       "      <td>-0.006715</td>\n",
       "      <td>-0.024787</td>\n",
       "      <td>0.012873</td>\n",
       "      <td>0.015560</td>\n",
       "      <td>0.003168</td>\n",
       "      <td>0.000169</td>\n",
       "      <td>-0.037435</td>\n",
       "      <td>0.005799</td>\n",
       "      <td>0.010735</td>\n",
       "      <td>-0.005060</td>\n",
       "    </tr>\n",
       "  </tbody>\n",
       "</table>\n",
       "<p>3039 rows × 10 columns</p>\n",
       "</div>"
      ],
      "text/plain": [
       "Ticker          AAPL       AMD      AMZN     GOOGL      META      MSFT  \\\n",
       "Date                                                                     \n",
       "2013-01-03 -0.012703 -0.015937  0.004537  0.000581 -0.008248 -0.013486   \n",
       "2013-01-04 -0.028250  0.039375  0.002589  0.019568  0.035029 -0.018893   \n",
       "2013-01-07 -0.005900  0.030421  0.035295 -0.004373  0.022689 -0.001872   \n",
       "2013-01-08  0.002688  0.000000 -0.007778 -0.001975 -0.012312 -0.005259   \n",
       "2013-01-09 -0.015753 -0.015095 -0.000113  0.006552  0.051311  0.005634   \n",
       "...              ...       ...       ...       ...       ...       ...   \n",
       "2025-01-27  0.031286 -0.065864  0.002424 -0.042862  0.018955 -0.021626   \n",
       "2025-01-28  0.035892 -0.007331  0.011530  0.018032  0.021662  0.028672   \n",
       "2025-01-29  0.004606  0.027472 -0.004545  0.000563  0.003198 -0.010950   \n",
       "2025-01-30 -0.007422  0.012785 -0.010303  0.027558  0.015417 -0.063802   \n",
       "2025-01-31 -0.006715 -0.024787  0.012873  0.015560  0.003168  0.000169   \n",
       "\n",
       "Ticker          NVDA      QCOM      TSLA      ^SPX  \n",
       "Date                                                \n",
       "2013-01-03  0.000786 -0.004644 -0.016826 -0.002088  \n",
       "2013-01-04  0.032460 -0.014850 -0.010699  0.004853  \n",
       "2013-01-07 -0.029324  0.007999 -0.001746 -0.003128  \n",
       "2013-01-08 -0.022170 -0.001563 -0.019407 -0.003248  \n",
       "2013-01-09 -0.022673  0.015063 -0.001188  0.002652  \n",
       "...              ...       ...       ...       ...  \n",
       "2025-01-27 -0.185946 -0.005418 -0.023467 -0.014688  \n",
       "2025-01-28  0.085497  0.002159  0.002364  0.009176  \n",
       "2025-01-29 -0.041876  0.000932 -0.022842 -0.004690  \n",
       "2025-01-30  0.007651  0.001280  0.028328  0.005262  \n",
       "2025-01-31 -0.037435  0.005799  0.010735 -0.005060  \n",
       "\n",
       "[3039 rows x 10 columns]"
      ]
     },
     "execution_count": 4,
     "metadata": {},
     "output_type": "execute_result"
    }
   ],
   "source": [
    "# calculate the daily logarithmic return\n",
    "log_return = np.log(data/data.shift(1))\n",
    "log_return.dropna(inplace=True)\n",
    "log_return"
   ]
  },
  {
   "cell_type": "code",
   "execution_count": 5,
   "metadata": {},
   "outputs": [],
   "source": [
    "# calculate the annualized average return\n",
    "annualized_return = log_return.mean() * 252\n",
    "array_returns = annualized_return.to_numpy()\n",
    "# calculate the annualized standard deviation\n",
    "annualized_std = log_return.std(ddof=0) * np.sqrt(252)\n",
    "array_std = annualized_std.to_numpy()   "
   ]
  },
  {
   "cell_type": "code",
   "execution_count": 43,
   "metadata": {},
   "outputs": [],
   "source": [
    "def plot_points(array_returns, array_std, tickers):\n",
    "    fig = go.Figure()\n",
    "    for i in range(len(array_returns)):\n",
    "        fig.add_trace(go.Scatter(x=[array_std[i]], y=[array_returns[i]], mode='markers', name=annualized_return.index[i]))\n",
    "        fig.add_annotation(x=array_std[i], y=array_returns[i], text=annualized_return.index[i], showarrow=False, yshift=10)\n",
    "    fig.update_layout(title='Risk and Return', xaxis_title='Risk', yaxis_title='Return')\n",
    "    fig.update_layout(showlegend=True)\n",
    "    \n",
    "def plot_points2(array_returns, array_std, tickers):\n",
    "    plt.figure(figsize=(12,8))\n",
    "    plt.scatter(array_std, array_returns, marker='o', color='black')\n",
    "    plt.xlabel('Standard Deviation')\n",
    "    plt.ylabel('Mean')\n",
    "    for i in range(len(array_returns)):\n",
    "        plt.annotate(tickers[i], (array_std[i], array_returns[i]), ha = 'center', va = 'bottom', weight = 'bold')"
   ]
  },
  {
   "cell_type": "code",
   "execution_count": 7,
   "metadata": {},
   "outputs": [
    {
     "data": {
      "application/vnd.plotly.v1+json": {
       "config": {
        "plotlyServerURL": "https://plot.ly"
       },
       "data": [
        {
         "mode": "markers",
         "name": "AAPL",
         "type": "scatter",
         "x": [
          0.2799345778543388
         ],
         "y": [
          0.21967541507396424
         ]
        },
        {
         "mode": "markers",
         "name": "AMD",
         "type": "scatter",
         "x": [
          0.5591927222885837
         ],
         "y": [
          0.3171717064756917
         ]
        },
        {
         "mode": "markers",
         "name": "AMZN",
         "type": "scatter",
         "x": [
          0.32168888330232137
         ],
         "y": [
          0.24183175897306852
         ]
        },
        {
         "mode": "markers",
         "name": "GOOGL",
         "type": "scatter",
         "x": [
          0.2735131615479273
         ],
         "y": [
          0.201165541951236
         ]
        },
        {
         "mode": "markers",
         "name": "META",
         "type": "scatter",
         "x": [
          0.3814376150778047
         ],
         "y": [
          0.26594006849985835
         ]
        },
        {
         "mode": "markers",
         "name": "MSFT",
         "type": "scatter",
         "x": [
          0.26406232765612936
         ],
         "y": [
          0.2420536340709486
         ]
        },
        {
         "mode": "markers",
         "name": "NVDA",
         "type": "scatter",
         "x": [
          0.45432760102153524
         ],
         "y": [
          0.49868492003745846
         ]
        },
        {
         "mode": "markers",
         "name": "QCOM",
         "type": "scatter",
         "x": [
          0.3440150160664825
         ],
         "y": [
          0.1089069497247517
         ]
        },
        {
         "mode": "markers",
         "name": "TSLA",
         "type": "scatter",
         "x": [
          0.57128711873506
         ],
         "y": [
          0.426664282040521
         ]
        },
        {
         "mode": "markers",
         "name": "^SPX",
         "type": "scatter",
         "x": [
          0.16923467134365008
         ],
         "y": [
          0.11761650919678
         ]
        }
       ],
       "layout": {
        "annotations": [
         {
          "showarrow": false,
          "text": "AAPL",
          "x": 0.2799345778543388,
          "y": 0.21967541507396424,
          "yshift": 10
         },
         {
          "showarrow": false,
          "text": "AMD",
          "x": 0.5591927222885837,
          "y": 0.3171717064756917,
          "yshift": 10
         },
         {
          "showarrow": false,
          "text": "AMZN",
          "x": 0.32168888330232137,
          "y": 0.24183175897306852,
          "yshift": 10
         },
         {
          "showarrow": false,
          "text": "GOOGL",
          "x": 0.2735131615479273,
          "y": 0.201165541951236,
          "yshift": 10
         },
         {
          "showarrow": false,
          "text": "META",
          "x": 0.3814376150778047,
          "y": 0.26594006849985835,
          "yshift": 10
         },
         {
          "showarrow": false,
          "text": "MSFT",
          "x": 0.26406232765612936,
          "y": 0.2420536340709486,
          "yshift": 10
         },
         {
          "showarrow": false,
          "text": "NVDA",
          "x": 0.45432760102153524,
          "y": 0.49868492003745846,
          "yshift": 10
         },
         {
          "showarrow": false,
          "text": "QCOM",
          "x": 0.3440150160664825,
          "y": 0.1089069497247517,
          "yshift": 10
         },
         {
          "showarrow": false,
          "text": "TSLA",
          "x": 0.57128711873506,
          "y": 0.426664282040521,
          "yshift": 10
         },
         {
          "showarrow": false,
          "text": "^SPX",
          "x": 0.16923467134365008,
          "y": 0.11761650919678,
          "yshift": 10
         }
        ],
        "showlegend": true,
        "template": {
         "data": {
          "bar": [
           {
            "error_x": {
             "color": "#2a3f5f"
            },
            "error_y": {
             "color": "#2a3f5f"
            },
            "marker": {
             "line": {
              "color": "#E5ECF6",
              "width": 0.5
             },
             "pattern": {
              "fillmode": "overlay",
              "size": 10,
              "solidity": 0.2
             }
            },
            "type": "bar"
           }
          ],
          "barpolar": [
           {
            "marker": {
             "line": {
              "color": "#E5ECF6",
              "width": 0.5
             },
             "pattern": {
              "fillmode": "overlay",
              "size": 10,
              "solidity": 0.2
             }
            },
            "type": "barpolar"
           }
          ],
          "carpet": [
           {
            "aaxis": {
             "endlinecolor": "#2a3f5f",
             "gridcolor": "white",
             "linecolor": "white",
             "minorgridcolor": "white",
             "startlinecolor": "#2a3f5f"
            },
            "baxis": {
             "endlinecolor": "#2a3f5f",
             "gridcolor": "white",
             "linecolor": "white",
             "minorgridcolor": "white",
             "startlinecolor": "#2a3f5f"
            },
            "type": "carpet"
           }
          ],
          "choropleth": [
           {
            "colorbar": {
             "outlinewidth": 0,
             "ticks": ""
            },
            "type": "choropleth"
           }
          ],
          "contour": [
           {
            "colorbar": {
             "outlinewidth": 0,
             "ticks": ""
            },
            "colorscale": [
             [
              0,
              "#0d0887"
             ],
             [
              0.1111111111111111,
              "#46039f"
             ],
             [
              0.2222222222222222,
              "#7201a8"
             ],
             [
              0.3333333333333333,
              "#9c179e"
             ],
             [
              0.4444444444444444,
              "#bd3786"
             ],
             [
              0.5555555555555556,
              "#d8576b"
             ],
             [
              0.6666666666666666,
              "#ed7953"
             ],
             [
              0.7777777777777778,
              "#fb9f3a"
             ],
             [
              0.8888888888888888,
              "#fdca26"
             ],
             [
              1,
              "#f0f921"
             ]
            ],
            "type": "contour"
           }
          ],
          "contourcarpet": [
           {
            "colorbar": {
             "outlinewidth": 0,
             "ticks": ""
            },
            "type": "contourcarpet"
           }
          ],
          "heatmap": [
           {
            "colorbar": {
             "outlinewidth": 0,
             "ticks": ""
            },
            "colorscale": [
             [
              0,
              "#0d0887"
             ],
             [
              0.1111111111111111,
              "#46039f"
             ],
             [
              0.2222222222222222,
              "#7201a8"
             ],
             [
              0.3333333333333333,
              "#9c179e"
             ],
             [
              0.4444444444444444,
              "#bd3786"
             ],
             [
              0.5555555555555556,
              "#d8576b"
             ],
             [
              0.6666666666666666,
              "#ed7953"
             ],
             [
              0.7777777777777778,
              "#fb9f3a"
             ],
             [
              0.8888888888888888,
              "#fdca26"
             ],
             [
              1,
              "#f0f921"
             ]
            ],
            "type": "heatmap"
           }
          ],
          "heatmapgl": [
           {
            "colorbar": {
             "outlinewidth": 0,
             "ticks": ""
            },
            "colorscale": [
             [
              0,
              "#0d0887"
             ],
             [
              0.1111111111111111,
              "#46039f"
             ],
             [
              0.2222222222222222,
              "#7201a8"
             ],
             [
              0.3333333333333333,
              "#9c179e"
             ],
             [
              0.4444444444444444,
              "#bd3786"
             ],
             [
              0.5555555555555556,
              "#d8576b"
             ],
             [
              0.6666666666666666,
              "#ed7953"
             ],
             [
              0.7777777777777778,
              "#fb9f3a"
             ],
             [
              0.8888888888888888,
              "#fdca26"
             ],
             [
              1,
              "#f0f921"
             ]
            ],
            "type": "heatmapgl"
           }
          ],
          "histogram": [
           {
            "marker": {
             "pattern": {
              "fillmode": "overlay",
              "size": 10,
              "solidity": 0.2
             }
            },
            "type": "histogram"
           }
          ],
          "histogram2d": [
           {
            "colorbar": {
             "outlinewidth": 0,
             "ticks": ""
            },
            "colorscale": [
             [
              0,
              "#0d0887"
             ],
             [
              0.1111111111111111,
              "#46039f"
             ],
             [
              0.2222222222222222,
              "#7201a8"
             ],
             [
              0.3333333333333333,
              "#9c179e"
             ],
             [
              0.4444444444444444,
              "#bd3786"
             ],
             [
              0.5555555555555556,
              "#d8576b"
             ],
             [
              0.6666666666666666,
              "#ed7953"
             ],
             [
              0.7777777777777778,
              "#fb9f3a"
             ],
             [
              0.8888888888888888,
              "#fdca26"
             ],
             [
              1,
              "#f0f921"
             ]
            ],
            "type": "histogram2d"
           }
          ],
          "histogram2dcontour": [
           {
            "colorbar": {
             "outlinewidth": 0,
             "ticks": ""
            },
            "colorscale": [
             [
              0,
              "#0d0887"
             ],
             [
              0.1111111111111111,
              "#46039f"
             ],
             [
              0.2222222222222222,
              "#7201a8"
             ],
             [
              0.3333333333333333,
              "#9c179e"
             ],
             [
              0.4444444444444444,
              "#bd3786"
             ],
             [
              0.5555555555555556,
              "#d8576b"
             ],
             [
              0.6666666666666666,
              "#ed7953"
             ],
             [
              0.7777777777777778,
              "#fb9f3a"
             ],
             [
              0.8888888888888888,
              "#fdca26"
             ],
             [
              1,
              "#f0f921"
             ]
            ],
            "type": "histogram2dcontour"
           }
          ],
          "mesh3d": [
           {
            "colorbar": {
             "outlinewidth": 0,
             "ticks": ""
            },
            "type": "mesh3d"
           }
          ],
          "parcoords": [
           {
            "line": {
             "colorbar": {
              "outlinewidth": 0,
              "ticks": ""
             }
            },
            "type": "parcoords"
           }
          ],
          "pie": [
           {
            "automargin": true,
            "type": "pie"
           }
          ],
          "scatter": [
           {
            "fillpattern": {
             "fillmode": "overlay",
             "size": 10,
             "solidity": 0.2
            },
            "type": "scatter"
           }
          ],
          "scatter3d": [
           {
            "line": {
             "colorbar": {
              "outlinewidth": 0,
              "ticks": ""
             }
            },
            "marker": {
             "colorbar": {
              "outlinewidth": 0,
              "ticks": ""
             }
            },
            "type": "scatter3d"
           }
          ],
          "scattercarpet": [
           {
            "marker": {
             "colorbar": {
              "outlinewidth": 0,
              "ticks": ""
             }
            },
            "type": "scattercarpet"
           }
          ],
          "scattergeo": [
           {
            "marker": {
             "colorbar": {
              "outlinewidth": 0,
              "ticks": ""
             }
            },
            "type": "scattergeo"
           }
          ],
          "scattergl": [
           {
            "marker": {
             "colorbar": {
              "outlinewidth": 0,
              "ticks": ""
             }
            },
            "type": "scattergl"
           }
          ],
          "scattermapbox": [
           {
            "marker": {
             "colorbar": {
              "outlinewidth": 0,
              "ticks": ""
             }
            },
            "type": "scattermapbox"
           }
          ],
          "scatterpolar": [
           {
            "marker": {
             "colorbar": {
              "outlinewidth": 0,
              "ticks": ""
             }
            },
            "type": "scatterpolar"
           }
          ],
          "scatterpolargl": [
           {
            "marker": {
             "colorbar": {
              "outlinewidth": 0,
              "ticks": ""
             }
            },
            "type": "scatterpolargl"
           }
          ],
          "scatterternary": [
           {
            "marker": {
             "colorbar": {
              "outlinewidth": 0,
              "ticks": ""
             }
            },
            "type": "scatterternary"
           }
          ],
          "surface": [
           {
            "colorbar": {
             "outlinewidth": 0,
             "ticks": ""
            },
            "colorscale": [
             [
              0,
              "#0d0887"
             ],
             [
              0.1111111111111111,
              "#46039f"
             ],
             [
              0.2222222222222222,
              "#7201a8"
             ],
             [
              0.3333333333333333,
              "#9c179e"
             ],
             [
              0.4444444444444444,
              "#bd3786"
             ],
             [
              0.5555555555555556,
              "#d8576b"
             ],
             [
              0.6666666666666666,
              "#ed7953"
             ],
             [
              0.7777777777777778,
              "#fb9f3a"
             ],
             [
              0.8888888888888888,
              "#fdca26"
             ],
             [
              1,
              "#f0f921"
             ]
            ],
            "type": "surface"
           }
          ],
          "table": [
           {
            "cells": {
             "fill": {
              "color": "#EBF0F8"
             },
             "line": {
              "color": "white"
             }
            },
            "header": {
             "fill": {
              "color": "#C8D4E3"
             },
             "line": {
              "color": "white"
             }
            },
            "type": "table"
           }
          ]
         },
         "layout": {
          "annotationdefaults": {
           "arrowcolor": "#2a3f5f",
           "arrowhead": 0,
           "arrowwidth": 1
          },
          "autotypenumbers": "strict",
          "coloraxis": {
           "colorbar": {
            "outlinewidth": 0,
            "ticks": ""
           }
          },
          "colorscale": {
           "diverging": [
            [
             0,
             "#8e0152"
            ],
            [
             0.1,
             "#c51b7d"
            ],
            [
             0.2,
             "#de77ae"
            ],
            [
             0.3,
             "#f1b6da"
            ],
            [
             0.4,
             "#fde0ef"
            ],
            [
             0.5,
             "#f7f7f7"
            ],
            [
             0.6,
             "#e6f5d0"
            ],
            [
             0.7,
             "#b8e186"
            ],
            [
             0.8,
             "#7fbc41"
            ],
            [
             0.9,
             "#4d9221"
            ],
            [
             1,
             "#276419"
            ]
           ],
           "sequential": [
            [
             0,
             "#0d0887"
            ],
            [
             0.1111111111111111,
             "#46039f"
            ],
            [
             0.2222222222222222,
             "#7201a8"
            ],
            [
             0.3333333333333333,
             "#9c179e"
            ],
            [
             0.4444444444444444,
             "#bd3786"
            ],
            [
             0.5555555555555556,
             "#d8576b"
            ],
            [
             0.6666666666666666,
             "#ed7953"
            ],
            [
             0.7777777777777778,
             "#fb9f3a"
            ],
            [
             0.8888888888888888,
             "#fdca26"
            ],
            [
             1,
             "#f0f921"
            ]
           ],
           "sequentialminus": [
            [
             0,
             "#0d0887"
            ],
            [
             0.1111111111111111,
             "#46039f"
            ],
            [
             0.2222222222222222,
             "#7201a8"
            ],
            [
             0.3333333333333333,
             "#9c179e"
            ],
            [
             0.4444444444444444,
             "#bd3786"
            ],
            [
             0.5555555555555556,
             "#d8576b"
            ],
            [
             0.6666666666666666,
             "#ed7953"
            ],
            [
             0.7777777777777778,
             "#fb9f3a"
            ],
            [
             0.8888888888888888,
             "#fdca26"
            ],
            [
             1,
             "#f0f921"
            ]
           ]
          },
          "colorway": [
           "#636efa",
           "#EF553B",
           "#00cc96",
           "#ab63fa",
           "#FFA15A",
           "#19d3f3",
           "#FF6692",
           "#B6E880",
           "#FF97FF",
           "#FECB52"
          ],
          "font": {
           "color": "#2a3f5f"
          },
          "geo": {
           "bgcolor": "white",
           "lakecolor": "white",
           "landcolor": "#E5ECF6",
           "showlakes": true,
           "showland": true,
           "subunitcolor": "white"
          },
          "hoverlabel": {
           "align": "left"
          },
          "hovermode": "closest",
          "mapbox": {
           "style": "light"
          },
          "paper_bgcolor": "white",
          "plot_bgcolor": "#E5ECF6",
          "polar": {
           "angularaxis": {
            "gridcolor": "white",
            "linecolor": "white",
            "ticks": ""
           },
           "bgcolor": "#E5ECF6",
           "radialaxis": {
            "gridcolor": "white",
            "linecolor": "white",
            "ticks": ""
           }
          },
          "scene": {
           "xaxis": {
            "backgroundcolor": "#E5ECF6",
            "gridcolor": "white",
            "gridwidth": 2,
            "linecolor": "white",
            "showbackground": true,
            "ticks": "",
            "zerolinecolor": "white"
           },
           "yaxis": {
            "backgroundcolor": "#E5ECF6",
            "gridcolor": "white",
            "gridwidth": 2,
            "linecolor": "white",
            "showbackground": true,
            "ticks": "",
            "zerolinecolor": "white"
           },
           "zaxis": {
            "backgroundcolor": "#E5ECF6",
            "gridcolor": "white",
            "gridwidth": 2,
            "linecolor": "white",
            "showbackground": true,
            "ticks": "",
            "zerolinecolor": "white"
           }
          },
          "shapedefaults": {
           "line": {
            "color": "#2a3f5f"
           }
          },
          "ternary": {
           "aaxis": {
            "gridcolor": "white",
            "linecolor": "white",
            "ticks": ""
           },
           "baxis": {
            "gridcolor": "white",
            "linecolor": "white",
            "ticks": ""
           },
           "bgcolor": "#E5ECF6",
           "caxis": {
            "gridcolor": "white",
            "linecolor": "white",
            "ticks": ""
           }
          },
          "title": {
           "x": 0.05
          },
          "xaxis": {
           "automargin": true,
           "gridcolor": "white",
           "linecolor": "white",
           "ticks": "",
           "title": {
            "standoff": 15
           },
           "zerolinecolor": "white",
           "zerolinewidth": 2
          },
          "yaxis": {
           "automargin": true,
           "gridcolor": "white",
           "linecolor": "white",
           "ticks": "",
           "title": {
            "standoff": 15
           },
           "zerolinecolor": "white",
           "zerolinewidth": 2
          }
         }
        },
        "title": {
         "text": "Risk and Return"
        },
        "xaxis": {
         "title": {
          "text": "Risk"
         }
        },
        "yaxis": {
         "title": {
          "text": "Return"
         }
        }
       }
      }
     },
     "metadata": {},
     "output_type": "display_data"
    }
   ],
   "source": [
    "plot_points(array_returns, array_std, tickers)"
   ]
  },
  {
   "cell_type": "code",
   "execution_count": null,
   "metadata": {},
   "outputs": [
    {
     "data": {
      "image/png": "[encoded data removed]",
      "text/plain": [
       "<Figure size 1200x800 with 1 Axes>"
      ]
     },
     "metadata": {},
     "output_type": "display_data"
    }
   ],
   "source": [
    "plot_points2(array_returns, array_std, tickers)"
   ]
  },
  {
   "cell_type": "code",
   "execution_count": 8,
   "metadata": {},
   "outputs": [
    {
     "name": "stdout",
     "output_type": "stream",
     "text": [
      "Portfolio expected return: 0.26397107860442787\n"
     ]
    }
   ],
   "source": [
    "# Portfolio expected return\n",
    "equal_weights = np.array([1/len(tickers)]*len(tickers))\n",
    "mu_p = equal_weights @ array_returns\n",
    "print('Portfolio expected return:', mu_p)"
   ]
  },
  {
   "cell_type": "code",
   "execution_count": 9,
   "metadata": {},
   "outputs": [
    {
     "data": {
      "text/html": [
       "<div>\n",
       "<style scoped>\n",
       "    .dataframe tbody tr th:only-of-type {\n",
       "        vertical-align: middle;\n",
       "    }\n",
       "\n",
       "    .dataframe tbody tr th {\n",
       "        vertical-align: top;\n",
       "    }\n",
       "\n",
       "    .dataframe thead th {\n",
       "        text-align: right;\n",
       "    }\n",
       "</style>\n",
       "<table border=\"1\" class=\"dataframe\">\n",
       "  <thead>\n",
       "    <tr style=\"text-align: right;\">\n",
       "      <th>Ticker</th>\n",
       "      <th>AAPL</th>\n",
       "      <th>AMD</th>\n",
       "      <th>AMZN</th>\n",
       "      <th>GOOGL</th>\n",
       "      <th>META</th>\n",
       "      <th>MSFT</th>\n",
       "      <th>NVDA</th>\n",
       "      <th>QCOM</th>\n",
       "      <th>TSLA</th>\n",
       "      <th>^SPX</th>\n",
       "    </tr>\n",
       "    <tr>\n",
       "      <th>Ticker</th>\n",
       "      <th></th>\n",
       "      <th></th>\n",
       "      <th></th>\n",
       "      <th></th>\n",
       "      <th></th>\n",
       "      <th></th>\n",
       "      <th></th>\n",
       "      <th></th>\n",
       "      <th></th>\n",
       "      <th></th>\n",
       "    </tr>\n",
       "  </thead>\n",
       "  <tbody>\n",
       "    <tr>\n",
       "      <th>AAPL</th>\n",
       "      <td>1.000000</td>\n",
       "      <td>0.385349</td>\n",
       "      <td>0.489687</td>\n",
       "      <td>0.549792</td>\n",
       "      <td>0.464628</td>\n",
       "      <td>0.612038</td>\n",
       "      <td>0.501892</td>\n",
       "      <td>0.500284</td>\n",
       "      <td>0.374449</td>\n",
       "      <td>0.697357</td>\n",
       "    </tr>\n",
       "    <tr>\n",
       "      <th>AMD</th>\n",
       "      <td>0.385349</td>\n",
       "      <td>1.000000</td>\n",
       "      <td>0.383608</td>\n",
       "      <td>0.364034</td>\n",
       "      <td>0.331654</td>\n",
       "      <td>0.414730</td>\n",
       "      <td>0.568503</td>\n",
       "      <td>0.425665</td>\n",
       "      <td>0.312725</td>\n",
       "      <td>0.490358</td>\n",
       "    </tr>\n",
       "    <tr>\n",
       "      <th>AMZN</th>\n",
       "      <td>0.489687</td>\n",
       "      <td>0.383608</td>\n",
       "      <td>1.000000</td>\n",
       "      <td>0.621593</td>\n",
       "      <td>0.551279</td>\n",
       "      <td>0.597521</td>\n",
       "      <td>0.491929</td>\n",
       "      <td>0.401078</td>\n",
       "      <td>0.371813</td>\n",
       "      <td>0.612583</td>\n",
       "    </tr>\n",
       "    <tr>\n",
       "      <th>GOOGL</th>\n",
       "      <td>0.549792</td>\n",
       "      <td>0.364034</td>\n",
       "      <td>0.621593</td>\n",
       "      <td>1.000000</td>\n",
       "      <td>0.583737</td>\n",
       "      <td>0.669373</td>\n",
       "      <td>0.522880</td>\n",
       "      <td>0.460140</td>\n",
       "      <td>0.355444</td>\n",
       "      <td>0.709435</td>\n",
       "    </tr>\n",
       "    <tr>\n",
       "      <th>META</th>\n",
       "      <td>0.464628</td>\n",
       "      <td>0.331654</td>\n",
       "      <td>0.551279</td>\n",
       "      <td>0.583737</td>\n",
       "      <td>1.000000</td>\n",
       "      <td>0.515179</td>\n",
       "      <td>0.448101</td>\n",
       "      <td>0.366679</td>\n",
       "      <td>0.308560</td>\n",
       "      <td>0.567151</td>\n",
       "    </tr>\n",
       "    <tr>\n",
       "      <th>MSFT</th>\n",
       "      <td>0.612038</td>\n",
       "      <td>0.414730</td>\n",
       "      <td>0.597521</td>\n",
       "      <td>0.669373</td>\n",
       "      <td>0.515179</td>\n",
       "      <td>1.000000</td>\n",
       "      <td>0.578002</td>\n",
       "      <td>0.501877</td>\n",
       "      <td>0.368556</td>\n",
       "      <td>0.763280</td>\n",
       "    </tr>\n",
       "    <tr>\n",
       "      <th>NVDA</th>\n",
       "      <td>0.501892</td>\n",
       "      <td>0.568503</td>\n",
       "      <td>0.491929</td>\n",
       "      <td>0.522880</td>\n",
       "      <td>0.448101</td>\n",
       "      <td>0.578002</td>\n",
       "      <td>1.000000</td>\n",
       "      <td>0.540690</td>\n",
       "      <td>0.376803</td>\n",
       "      <td>0.633967</td>\n",
       "    </tr>\n",
       "    <tr>\n",
       "      <th>QCOM</th>\n",
       "      <td>0.500284</td>\n",
       "      <td>0.425665</td>\n",
       "      <td>0.401078</td>\n",
       "      <td>0.460140</td>\n",
       "      <td>0.366679</td>\n",
       "      <td>0.501877</td>\n",
       "      <td>0.540690</td>\n",
       "      <td>1.000000</td>\n",
       "      <td>0.325997</td>\n",
       "      <td>0.623048</td>\n",
       "    </tr>\n",
       "    <tr>\n",
       "      <th>TSLA</th>\n",
       "      <td>0.374449</td>\n",
       "      <td>0.312725</td>\n",
       "      <td>0.371813</td>\n",
       "      <td>0.355444</td>\n",
       "      <td>0.308560</td>\n",
       "      <td>0.368556</td>\n",
       "      <td>0.376803</td>\n",
       "      <td>0.325997</td>\n",
       "      <td>1.000000</td>\n",
       "      <td>0.448156</td>\n",
       "    </tr>\n",
       "    <tr>\n",
       "      <th>^SPX</th>\n",
       "      <td>0.697357</td>\n",
       "      <td>0.490358</td>\n",
       "      <td>0.612583</td>\n",
       "      <td>0.709435</td>\n",
       "      <td>0.567151</td>\n",
       "      <td>0.763280</td>\n",
       "      <td>0.633967</td>\n",
       "      <td>0.623048</td>\n",
       "      <td>0.448156</td>\n",
       "      <td>1.000000</td>\n",
       "    </tr>\n",
       "  </tbody>\n",
       "</table>\n",
       "</div>"
      ],
      "text/plain": [
       "Ticker      AAPL       AMD      AMZN     GOOGL      META      MSFT      NVDA  \\\n",
       "Ticker                                                                         \n",
       "AAPL    1.000000  0.385349  0.489687  0.549792  0.464628  0.612038  0.501892   \n",
       "AMD     0.385349  1.000000  0.383608  0.364034  0.331654  0.414730  0.568503   \n",
       "AMZN    0.489687  0.383608  1.000000  0.621593  0.551279  0.597521  0.491929   \n",
       "GOOGL   0.549792  0.364034  0.621593  1.000000  0.583737  0.669373  0.522880   \n",
       "META    0.464628  0.331654  0.551279  0.583737  1.000000  0.515179  0.448101   \n",
       "MSFT    0.612038  0.414730  0.597521  0.669373  0.515179  1.000000  0.578002   \n",
       "NVDA    0.501892  0.568503  0.491929  0.522880  0.448101  0.578002  1.000000   \n",
       "QCOM    0.500284  0.425665  0.401078  0.460140  0.366679  0.501877  0.540690   \n",
       "TSLA    0.374449  0.312725  0.371813  0.355444  0.308560  0.368556  0.376803   \n",
       "^SPX    0.697357  0.490358  0.612583  0.709435  0.567151  0.763280  0.633967   \n",
       "\n",
       "Ticker      QCOM      TSLA      ^SPX  \n",
       "Ticker                                \n",
       "AAPL    0.500284  0.374449  0.697357  \n",
       "AMD     0.425665  0.312725  0.490358  \n",
       "AMZN    0.401078  0.371813  0.612583  \n",
       "GOOGL   0.460140  0.355444  0.709435  \n",
       "META    0.366679  0.308560  0.567151  \n",
       "MSFT    0.501877  0.368556  0.763280  \n",
       "NVDA    0.540690  0.376803  0.633967  \n",
       "QCOM    1.000000  0.325997  0.623048  \n",
       "TSLA    0.325997  1.000000  0.448156  \n",
       "^SPX    0.623048  0.448156  1.000000  "
      ]
     },
     "execution_count": 9,
     "metadata": {},
     "output_type": "execute_result"
    }
   ],
   "source": [
    "# Correlation matrix\n",
    "corr_matrix = log_return.corr()\n",
    "# is matrix semi-positive definite?\n",
    "np.all(np.linalg.eigvals(corr_matrix) > 0)\n",
    "corr_matrix"
   ]
  },
  {
   "cell_type": "code",
   "execution_count": 14,
   "metadata": {},
   "outputs": [
    {
     "data": {
      "text/html": [
       "<div>\n",
       "<style scoped>\n",
       "    .dataframe tbody tr th:only-of-type {\n",
       "        vertical-align: middle;\n",
       "    }\n",
       "\n",
       "    .dataframe tbody tr th {\n",
       "        vertical-align: top;\n",
       "    }\n",
       "\n",
       "    .dataframe thead th {\n",
       "        text-align: right;\n",
       "    }\n",
       "</style>\n",
       "<table border=\"1\" class=\"dataframe\">\n",
       "  <thead>\n",
       "    <tr style=\"text-align: right;\">\n",
       "      <th>Ticker</th>\n",
       "      <th>AAPL</th>\n",
       "      <th>AMD</th>\n",
       "      <th>AMZN</th>\n",
       "      <th>GOOGL</th>\n",
       "      <th>META</th>\n",
       "      <th>MSFT</th>\n",
       "      <th>NVDA</th>\n",
       "      <th>QCOM</th>\n",
       "      <th>TSLA</th>\n",
       "      <th>^SPX</th>\n",
       "    </tr>\n",
       "    <tr>\n",
       "      <th>Ticker</th>\n",
       "      <th></th>\n",
       "      <th></th>\n",
       "      <th></th>\n",
       "      <th></th>\n",
       "      <th></th>\n",
       "      <th></th>\n",
       "      <th></th>\n",
       "      <th></th>\n",
       "      <th></th>\n",
       "      <th></th>\n",
       "    </tr>\n",
       "  </thead>\n",
       "  <tbody>\n",
       "    <tr>\n",
       "      <th>AAPL</th>\n",
       "      <td>0.078363</td>\n",
       "      <td>0.060322</td>\n",
       "      <td>0.044097</td>\n",
       "      <td>0.042095</td>\n",
       "      <td>0.049612</td>\n",
       "      <td>0.045242</td>\n",
       "      <td>0.063832</td>\n",
       "      <td>0.048178</td>\n",
       "      <td>0.059883</td>\n",
       "      <td>0.033037</td>\n",
       "    </tr>\n",
       "    <tr>\n",
       "      <th>AMD</th>\n",
       "      <td>0.060322</td>\n",
       "      <td>0.312697</td>\n",
       "      <td>0.069006</td>\n",
       "      <td>0.055678</td>\n",
       "      <td>0.070741</td>\n",
       "      <td>0.061240</td>\n",
       "      <td>0.144432</td>\n",
       "      <td>0.081886</td>\n",
       "      <td>0.099903</td>\n",
       "      <td>0.046405</td>\n",
       "    </tr>\n",
       "    <tr>\n",
       "      <th>AMZN</th>\n",
       "      <td>0.044097</td>\n",
       "      <td>0.069006</td>\n",
       "      <td>0.103484</td>\n",
       "      <td>0.054692</td>\n",
       "      <td>0.067644</td>\n",
       "      <td>0.050757</td>\n",
       "      <td>0.071896</td>\n",
       "      <td>0.044386</td>\n",
       "      <td>0.068331</td>\n",
       "      <td>0.033350</td>\n",
       "    </tr>\n",
       "    <tr>\n",
       "      <th>GOOGL</th>\n",
       "      <td>0.042095</td>\n",
       "      <td>0.055678</td>\n",
       "      <td>0.054692</td>\n",
       "      <td>0.074809</td>\n",
       "      <td>0.060900</td>\n",
       "      <td>0.048345</td>\n",
       "      <td>0.064976</td>\n",
       "      <td>0.043296</td>\n",
       "      <td>0.055540</td>\n",
       "      <td>0.032838</td>\n",
       "    </tr>\n",
       "    <tr>\n",
       "      <th>META</th>\n",
       "      <td>0.049612</td>\n",
       "      <td>0.070741</td>\n",
       "      <td>0.067644</td>\n",
       "      <td>0.060900</td>\n",
       "      <td>0.145495</td>\n",
       "      <td>0.051891</td>\n",
       "      <td>0.077655</td>\n",
       "      <td>0.048116</td>\n",
       "      <td>0.067238</td>\n",
       "      <td>0.036611</td>\n",
       "    </tr>\n",
       "    <tr>\n",
       "      <th>MSFT</th>\n",
       "      <td>0.045242</td>\n",
       "      <td>0.061240</td>\n",
       "      <td>0.050757</td>\n",
       "      <td>0.048345</td>\n",
       "      <td>0.051891</td>\n",
       "      <td>0.069729</td>\n",
       "      <td>0.069343</td>\n",
       "      <td>0.045591</td>\n",
       "      <td>0.055599</td>\n",
       "      <td>0.034110</td>\n",
       "    </tr>\n",
       "    <tr>\n",
       "      <th>NVDA</th>\n",
       "      <td>0.063832</td>\n",
       "      <td>0.144432</td>\n",
       "      <td>0.071896</td>\n",
       "      <td>0.064976</td>\n",
       "      <td>0.077655</td>\n",
       "      <td>0.069343</td>\n",
       "      <td>0.206414</td>\n",
       "      <td>0.084507</td>\n",
       "      <td>0.097800</td>\n",
       "      <td>0.048744</td>\n",
       "    </tr>\n",
       "    <tr>\n",
       "      <th>QCOM</th>\n",
       "      <td>0.048178</td>\n",
       "      <td>0.081886</td>\n",
       "      <td>0.044386</td>\n",
       "      <td>0.043296</td>\n",
       "      <td>0.048116</td>\n",
       "      <td>0.045591</td>\n",
       "      <td>0.084507</td>\n",
       "      <td>0.118346</td>\n",
       "      <td>0.064069</td>\n",
       "      <td>0.036273</td>\n",
       "    </tr>\n",
       "    <tr>\n",
       "      <th>TSLA</th>\n",
       "      <td>0.059883</td>\n",
       "      <td>0.099903</td>\n",
       "      <td>0.068331</td>\n",
       "      <td>0.055540</td>\n",
       "      <td>0.067238</td>\n",
       "      <td>0.055599</td>\n",
       "      <td>0.097800</td>\n",
       "      <td>0.064069</td>\n",
       "      <td>0.326369</td>\n",
       "      <td>0.043328</td>\n",
       "    </tr>\n",
       "    <tr>\n",
       "      <th>^SPX</th>\n",
       "      <td>0.033037</td>\n",
       "      <td>0.046405</td>\n",
       "      <td>0.033350</td>\n",
       "      <td>0.032838</td>\n",
       "      <td>0.036611</td>\n",
       "      <td>0.034110</td>\n",
       "      <td>0.048744</td>\n",
       "      <td>0.036273</td>\n",
       "      <td>0.043328</td>\n",
       "      <td>0.028640</td>\n",
       "    </tr>\n",
       "  </tbody>\n",
       "</table>\n",
       "</div>"
      ],
      "text/plain": [
       "Ticker      AAPL       AMD      AMZN     GOOGL      META      MSFT      NVDA  \\\n",
       "Ticker                                                                         \n",
       "AAPL    0.078363  0.060322  0.044097  0.042095  0.049612  0.045242  0.063832   \n",
       "AMD     0.060322  0.312697  0.069006  0.055678  0.070741  0.061240  0.144432   \n",
       "AMZN    0.044097  0.069006  0.103484  0.054692  0.067644  0.050757  0.071896   \n",
       "GOOGL   0.042095  0.055678  0.054692  0.074809  0.060900  0.048345  0.064976   \n",
       "META    0.049612  0.070741  0.067644  0.060900  0.145495  0.051891  0.077655   \n",
       "MSFT    0.045242  0.061240  0.050757  0.048345  0.051891  0.069729  0.069343   \n",
       "NVDA    0.063832  0.144432  0.071896  0.064976  0.077655  0.069343  0.206414   \n",
       "QCOM    0.048178  0.081886  0.044386  0.043296  0.048116  0.045591  0.084507   \n",
       "TSLA    0.059883  0.099903  0.068331  0.055540  0.067238  0.055599  0.097800   \n",
       "^SPX    0.033037  0.046405  0.033350  0.032838  0.036611  0.034110  0.048744   \n",
       "\n",
       "Ticker      QCOM      TSLA      ^SPX  \n",
       "Ticker                                \n",
       "AAPL    0.048178  0.059883  0.033037  \n",
       "AMD     0.081886  0.099903  0.046405  \n",
       "AMZN    0.044386  0.068331  0.033350  \n",
       "GOOGL   0.043296  0.055540  0.032838  \n",
       "META    0.048116  0.067238  0.036611  \n",
       "MSFT    0.045591  0.055599  0.034110  \n",
       "NVDA    0.084507  0.097800  0.048744  \n",
       "QCOM    0.118346  0.064069  0.036273  \n",
       "TSLA    0.064069  0.326369  0.043328  \n",
       "^SPX    0.036273  0.043328  0.028640  "
      ]
     },
     "execution_count": 14,
     "metadata": {},
     "output_type": "execute_result"
    }
   ],
   "source": [
    "# Covariance matrix\n",
    "cov_matrix = log_return.cov(ddof=0)*252\n",
    "cov_matrix\n"
   ]
  },
  {
   "cell_type": "code",
   "execution_count": 19,
   "metadata": {},
   "outputs": [
    {
     "name": "stdout",
     "output_type": "stream",
     "text": [
      "Portfolio expected risk: 0.25944500599336917\n"
     ]
    }
   ],
   "source": [
    "# Portfolio expected risk\n",
    "sigma_p = np.sqrt(equal_weights @ cov_matrix @ equal_weights.T)\n",
    "print('Portfolio expected risk:', sigma_p)"
   ]
  },
  {
   "cell_type": "code",
   "execution_count": 20,
   "metadata": {},
   "outputs": [],
   "source": [
    "def random_weights(n):\n",
    "    weights = np.random.randn(n)\n",
    "    return weights/sum(weights)"
   ]
  },
  {
   "cell_type": "code",
   "execution_count": 33,
   "metadata": {},
   "outputs": [],
   "source": [
    "def mu_sigma_portfolio(weights, returns, cov_matrix):\n",
    "    mu_p = weights @ returns\n",
    "    sigma_p = np.sqrt(weights @ cov_matrix @ weights.T)\n",
    "    return mu_p, sigma_p"
   ]
  },
  {
   "cell_type": "code",
   "execution_count": 34,
   "metadata": {},
   "outputs": [],
   "source": [
    "def plot_random_portfolios(mu, cov, n_simulation):\n",
    "    fig = go.Figure()\n",
    "    for i in range(n_simulation):\n",
    "        weights = random_weights(len(mu))\n",
    "        mu_p, sigma_p = mu_sigma_portfolio(weights, mu, cov)\n",
    "        fig.add_trace(go.Scatter(x=[sigma_p], y=[mu_p], mode='markers', marker=dict(color='blue', size=5)))\n",
    "    fig.update_layout(title='Risk and Return', xaxis_title='Risk', yaxis_title='Return')\n",
    "    fig.show()"
   ]
  },
  {
   "cell_type": "code",
   "execution_count": 35,
   "metadata": {},
   "outputs": [
    {
     "data": {
      "application/vnd.plotly.v1+json": {
       "config": {
        "plotlyServerURL": "https://plot.ly"
       },
       "data": [
        {
         "marker": {
          "color": "blue",
          "size": 5
         },
         "mode": "markers",
         "type": "scatter",
         "x": [
          5.166236031278841
         ],
         "y": [
          2.044883167245779
         ]
        },
        {
         "marker": {
          "color": "blue",
          "size": 5
         },
         "mode": "markers",
         "type": "scatter",
         "x": [
          0.35011563886208624
         ],
         "y": [
          0.23323206899298202
         ]
        },
        {
         "marker": {
          "color": "blue",
          "size": 5
         },
         "mode": "markers",
         "type": "scatter",
         "x": [
          0.6953264466427951
         ],
         "y": [
          0.40455901196837263
         ]
        },
        {
         "marker": {
          "color": "blue",
          "size": 5
         },
         "mode": "markers",
         "type": "scatter",
         "x": [
          0.3463888059693131
         ],
         "y": [
          0.28346527505115415
         ]
        },
        {
         "marker": {
          "color": "blue",
          "size": 5
         },
         "mode": "markers",
         "type": "scatter",
         "x": [
          0.3088842002849021
         ],
         "y": [
          0.0334332515636978
         ]
        },
        {
         "marker": {
          "color": "blue",
          "size": 5
         },
         "mode": "markers",
         "type": "scatter",
         "x": [
          1.7275834484409784
         ],
         "y": [
          0.470061435140273
         ]
        },
        {
         "marker": {
          "color": "blue",
          "size": 5
         },
         "mode": "markers",
         "type": "scatter",
         "x": [
          0.3526037299789855
         ],
         "y": [
          0.1268051985862901
         ]
        },
        {
         "marker": {
          "color": "blue",
          "size": 5
         },
         "mode": "markers",
         "type": "scatter",
         "x": [
          0.37997679939724777
         ],
         "y": [
          0.13750577349357637
         ]
        },
        {
         "marker": {
          "color": "blue",
          "size": 5
         },
         "mode": "markers",
         "type": "scatter",
         "x": [
          0.6507610709438976
         ],
         "y": [
          0.4649008813118328
         ]
        },
        {
         "marker": {
          "color": "blue",
          "size": 5
         },
         "mode": "markers",
         "type": "scatter",
         "x": [
          0.2994107066021289
         ],
         "y": [
          0.3064631216286563
         ]
        },
        {
         "marker": {
          "color": "blue",
          "size": 5
         },
         "mode": "markers",
         "type": "scatter",
         "x": [
          0.31840633340153685
         ],
         "y": [
          0.10382649982577198
         ]
        },
        {
         "marker": {
          "color": "blue",
          "size": 5
         },
         "mode": "markers",
         "type": "scatter",
         "x": [
          0.5603693631650076
         ],
         "y": [
          0.3887434852890185
         ]
        },
        {
         "marker": {
          "color": "blue",
          "size": 5
         },
         "mode": "markers",
         "type": "scatter",
         "x": [
          0.3445293590751471
         ],
         "y": [
          0.11824767402064518
         ]
        },
        {
         "marker": {
          "color": "blue",
          "size": 5
         },
         "mode": "markers",
         "type": "scatter",
         "x": [
          1.5623288238573416
         ],
         "y": [
          0.6932841008962016
         ]
        },
        {
         "marker": {
          "color": "blue",
          "size": 5
         },
         "mode": "markers",
         "type": "scatter",
         "x": [
          0.2876249728540714
         ],
         "y": [
          0.24355422377595906
         ]
        },
        {
         "marker": {
          "color": "blue",
          "size": 5
         },
         "mode": "markers",
         "type": "scatter",
         "x": [
          0.29699925408870553
         ],
         "y": [
          0.3079241348500335
         ]
        },
        {
         "marker": {
          "color": "blue",
          "size": 5
         },
         "mode": "markers",
         "type": "scatter",
         "x": [
          0.6594108959849444
         ],
         "y": [
          0.1711604090668817
         ]
        },
        {
         "marker": {
          "color": "blue",
          "size": 5
         },
         "mode": "markers",
         "type": "scatter",
         "x": [
          0.2981221165688019
         ],
         "y": [
          0.27683073017453463
         ]
        },
        {
         "marker": {
          "color": "blue",
          "size": 5
         },
         "mode": "markers",
         "type": "scatter",
         "x": [
          0.36475955126845794
         ],
         "y": [
          0.15570934369183628
         ]
        },
        {
         "marker": {
          "color": "blue",
          "size": 5
         },
         "mode": "markers",
         "type": "scatter",
         "x": [
          0.4158484442775589
         ],
         "y": [
          0.46734547871063176
         ]
        },
        {
         "marker": {
          "color": "blue",
          "size": 5
         },
         "mode": "markers",
         "type": "scatter",
         "x": [
          0.44641465191537294
         ],
         "y": [
          0.02967078232726046
         ]
        },
        {
         "marker": {
          "color": "blue",
          "size": 5
         },
         "mode": "markers",
         "type": "scatter",
         "x": [
          0.5462016075731612
         ],
         "y": [
          0.19417725785665202
         ]
        },
        {
         "marker": {
          "color": "blue",
          "size": 5
         },
         "mode": "markers",
         "type": "scatter",
         "x": [
          0.3471765756018449
         ],
         "y": [
          0.3400867459516007
         ]
        },
        {
         "marker": {
          "color": "blue",
          "size": 5
         },
         "mode": "markers",
         "type": "scatter",
         "x": [
          0.3238307946774612
         ],
         "y": [
          0.3310186730220644
         ]
        },
        {
         "marker": {
          "color": "blue",
          "size": 5
         },
         "mode": "markers",
         "type": "scatter",
         "x": [
          0.6722519379167516
         ],
         "y": [
          -0.1734985585589895
         ]
        },
        {
         "marker": {
          "color": "blue",
          "size": 5
         },
         "mode": "markers",
         "type": "scatter",
         "x": [
          0.621253489045526
         ],
         "y": [
          0.4842091260709044
         ]
        },
        {
         "marker": {
          "color": "blue",
          "size": 5
         },
         "mode": "markers",
         "type": "scatter",
         "x": [
          0.35099110265070843
         ],
         "y": [
          0.3059880681348471
         ]
        },
        {
         "marker": {
          "color": "blue",
          "size": 5
         },
         "mode": "markers",
         "type": "scatter",
         "x": [
          0.2583700669767262
         ],
         "y": [
          0.09281050104535737
         ]
        },
        {
         "marker": {
          "color": "blue",
          "size": 5
         },
         "mode": "markers",
         "type": "scatter",
         "x": [
          0.24057293498727528
         ],
         "y": [
          0.21461168603295055
         ]
        },
        {
         "marker": {
          "color": "blue",
          "size": 5
         },
         "mode": "markers",
         "type": "scatter",
         "x": [
          1.3365805277969858
         ],
         "y": [
          0.3189603986034181
         ]
        },
        {
         "marker": {
          "color": "blue",
          "size": 5
         },
         "mode": "markers",
         "type": "scatter",
         "x": [
          0.34813773336352577
         ],
         "y": [
          0.21258637150735
         ]
        },
        {
         "marker": {
          "color": "blue",
          "size": 5
         },
         "mode": "markers",
         "type": "scatter",
         "x": [
          0.8044370854293126
         ],
         "y": [
          -0.43335392661284783
         ]
        },
        {
         "marker": {
          "color": "blue",
          "size": 5
         },
         "mode": "markers",
         "type": "scatter",
         "x": [
          1.9393020749575631
         ],
         "y": [
          -0.2125913269368443
         ]
        },
        {
         "marker": {
          "color": "blue",
          "size": 5
         },
         "mode": "markers",
         "type": "scatter",
         "x": [
          0.35421707378050227
         ],
         "y": [
          0.32878405939179794
         ]
        },
        {
         "marker": {
          "color": "blue",
          "size": 5
         },
         "mode": "markers",
         "type": "scatter",
         "x": [
          0.34919676122559795
         ],
         "y": [
          0.06290742994284128
         ]
        },
        {
         "marker": {
          "color": "blue",
          "size": 5
         },
         "mode": "markers",
         "type": "scatter",
         "x": [
          0.3355230019801679
         ],
         "y": [
          0.3418959870474148
         ]
        },
        {
         "marker": {
          "color": "blue",
          "size": 5
         },
         "mode": "markers",
         "type": "scatter",
         "x": [
          1.0336838661764993
         ],
         "y": [
          0.25940033823324526
         ]
        },
        {
         "marker": {
          "color": "blue",
          "size": 5
         },
         "mode": "markers",
         "type": "scatter",
         "x": [
          0.4168949195501976
         ],
         "y": [
          0.0029533332500676565
         ]
        },
        {
         "marker": {
          "color": "blue",
          "size": 5
         },
         "mode": "markers",
         "type": "scatter",
         "x": [
          0.9986303239589268
         ],
         "y": [
          0.1700053212176455
         ]
        },
        {
         "marker": {
          "color": "blue",
          "size": 5
         },
         "mode": "markers",
         "type": "scatter",
         "x": [
          0.9672355100197937
         ],
         "y": [
          0.6542415427500674
         ]
        },
        {
         "marker": {
          "color": "blue",
          "size": 5
         },
         "mode": "markers",
         "type": "scatter",
         "x": [
          0.30045636905956946
         ],
         "y": [
          0.12371955112762453
         ]
        },
        {
         "marker": {
          "color": "blue",
          "size": 5
         },
         "mode": "markers",
         "type": "scatter",
         "x": [
          0.3369829621686378
         ],
         "y": [
          0.2692323299728927
         ]
        },
        {
         "marker": {
          "color": "blue",
          "size": 5
         },
         "mode": "markers",
         "type": "scatter",
         "x": [
          0.3620701892094636
         ],
         "y": [
          0.19176936752625437
         ]
        },
        {
         "marker": {
          "color": "blue",
          "size": 5
         },
         "mode": "markers",
         "type": "scatter",
         "x": [
          0.26873189443571616
         ],
         "y": [
          0.2390577335470565
         ]
        },
        {
         "marker": {
          "color": "blue",
          "size": 5
         },
         "mode": "markers",
         "type": "scatter",
         "x": [
          0.9951863787551002
         ],
         "y": [
          -0.09919523223162244
         ]
        },
        {
         "marker": {
          "color": "blue",
          "size": 5
         },
         "mode": "markers",
         "type": "scatter",
         "x": [
          1.5413819128551516
         ],
         "y": [
          0.06534665689311155
         ]
        },
        {
         "marker": {
          "color": "blue",
          "size": 5
         },
         "mode": "markers",
         "type": "scatter",
         "x": [
          0.3358394651618903
         ],
         "y": [
          0.34284405545317154
         ]
        },
        {
         "marker": {
          "color": "blue",
          "size": 5
         },
         "mode": "markers",
         "type": "scatter",
         "x": [
          0.6729488491089846
         ],
         "y": [
          -0.31431120066062107
         ]
        },
        {
         "marker": {
          "color": "blue",
          "size": 5
         },
         "mode": "markers",
         "type": "scatter",
         "x": [
          0.4779097726264534
         ],
         "y": [
          0.4161111697712555
         ]
        },
        {
         "marker": {
          "color": "blue",
          "size": 5
         },
         "mode": "markers",
         "type": "scatter",
         "x": [
          0.4020779283040104
         ],
         "y": [
          0.28987902229987117
         ]
        },
        {
         "marker": {
          "color": "blue",
          "size": 5
         },
         "mode": "markers",
         "type": "scatter",
         "x": [
          0.380842588796796
         ],
         "y": [
          0.3255170706827909
         ]
        },
        {
         "marker": {
          "color": "blue",
          "size": 5
         },
         "mode": "markers",
         "type": "scatter",
         "x": [
          0.3349943633780858
         ],
         "y": [
          0.3092592635466236
         ]
        },
        {
         "marker": {
          "color": "blue",
          "size": 5
         },
         "mode": "markers",
         "type": "scatter",
         "x": [
          0.512058771384605
         ],
         "y": [
          0.18403384348208626
         ]
        },
        {
         "marker": {
          "color": "blue",
          "size": 5
         },
         "mode": "markers",
         "type": "scatter",
         "x": [
          0.4584351329782649
         ],
         "y": [
          0.08665392396011763
         ]
        },
        {
         "marker": {
          "color": "blue",
          "size": 5
         },
         "mode": "markers",
         "type": "scatter",
         "x": [
          0.5942587222163823
         ],
         "y": [
          0.08847210494156935
         ]
        },
        {
         "marker": {
          "color": "blue",
          "size": 5
         },
         "mode": "markers",
         "type": "scatter",
         "x": [
          0.3367141922012645
         ],
         "y": [
          0.19672617335805637
         ]
        },
        {
         "marker": {
          "color": "blue",
          "size": 5
         },
         "mode": "markers",
         "type": "scatter",
         "x": [
          0.4487937891999331
         ],
         "y": [
          0.38865601298865465
         ]
        },
        {
         "marker": {
          "color": "blue",
          "size": 5
         },
         "mode": "markers",
         "type": "scatter",
         "x": [
          0.6434006679060562
         ],
         "y": [
          -0.27083454652026084
         ]
        },
        {
         "marker": {
          "color": "blue",
          "size": 5
         },
         "mode": "markers",
         "type": "scatter",
         "x": [
          9.53173399566265
         ],
         "y": [
          -4.7958255319147804
         ]
        },
        {
         "marker": {
          "color": "blue",
          "size": 5
         },
         "mode": "markers",
         "type": "scatter",
         "x": [
          0.6780671130540599
         ],
         "y": [
          0.6589701262754646
         ]
        },
        {
         "marker": {
          "color": "blue",
          "size": 5
         },
         "mode": "markers",
         "type": "scatter",
         "x": [
          2.373092051465756
         ],
         "y": [
          1.4883900105369952
         ]
        },
        {
         "marker": {
          "color": "blue",
          "size": 5
         },
         "mode": "markers",
         "type": "scatter",
         "x": [
          56.53117387461166
         ],
         "y": [
          32.031397633875876
         ]
        },
        {
         "marker": {
          "color": "blue",
          "size": 5
         },
         "mode": "markers",
         "type": "scatter",
         "x": [
          0.2979991404694882
         ],
         "y": [
          0.285382635925647
         ]
        },
        {
         "marker": {
          "color": "blue",
          "size": 5
         },
         "mode": "markers",
         "type": "scatter",
         "x": [
          0.3689616314934411
         ],
         "y": [
          0.1335002119512364
         ]
        },
        {
         "marker": {
          "color": "blue",
          "size": 5
         },
         "mode": "markers",
         "type": "scatter",
         "x": [
          0.2930431696465031
         ],
         "y": [
          0.3243477446321847
         ]
        },
        {
         "marker": {
          "color": "blue",
          "size": 5
         },
         "mode": "markers",
         "type": "scatter",
         "x": [
          3.992221724778511
         ],
         "y": [
          -0.513042536864965
         ]
        },
        {
         "marker": {
          "color": "blue",
          "size": 5
         },
         "mode": "markers",
         "type": "scatter",
         "x": [
          3.8234652191660192
         ],
         "y": [
          -1.305123293140836
         ]
        },
        {
         "marker": {
          "color": "blue",
          "size": 5
         },
         "mode": "markers",
         "type": "scatter",
         "x": [
          0.5573579591351462
         ],
         "y": [
          0.5734180030693604
         ]
        },
        {
         "marker": {
          "color": "blue",
          "size": 5
         },
         "mode": "markers",
         "type": "scatter",
         "x": [
          0.5578405651892874
         ],
         "y": [
          0.03768729251215454
         ]
        },
        {
         "marker": {
          "color": "blue",
          "size": 5
         },
         "mode": "markers",
         "type": "scatter",
         "x": [
          4.763435776701378
         ],
         "y": [
          -1.6557776044232655
         ]
        },
        {
         "marker": {
          "color": "blue",
          "size": 5
         },
         "mode": "markers",
         "type": "scatter",
         "x": [
          0.7723897576432878
         ],
         "y": [
          -0.07476553544245501
         ]
        },
        {
         "marker": {
          "color": "blue",
          "size": 5
         },
         "mode": "markers",
         "type": "scatter",
         "x": [
          0.2938601386529131
         ],
         "y": [
          0.22189145365706486
         ]
        },
        {
         "marker": {
          "color": "blue",
          "size": 5
         },
         "mode": "markers",
         "type": "scatter",
         "x": [
          0.3440826816304165
         ],
         "y": [
          0.23100222743395482
         ]
        },
        {
         "marker": {
          "color": "blue",
          "size": 5
         },
         "mode": "markers",
         "type": "scatter",
         "x": [
          0.8597514300480779
         ],
         "y": [
          -0.2792644786843889
         ]
        },
        {
         "marker": {
          "color": "blue",
          "size": 5
         },
         "mode": "markers",
         "type": "scatter",
         "x": [
          0.2980700796341969
         ],
         "y": [
          0.34422006569019725
         ]
        },
        {
         "marker": {
          "color": "blue",
          "size": 5
         },
         "mode": "markers",
         "type": "scatter",
         "x": [
          0.4407851122936475
         ],
         "y": [
          0.1945302127259336
         ]
        },
        {
         "marker": {
          "color": "blue",
          "size": 5
         },
         "mode": "markers",
         "type": "scatter",
         "x": [
          0.3070122672257446
         ],
         "y": [
          0.24485619259726094
         ]
        },
        {
         "marker": {
          "color": "blue",
          "size": 5
         },
         "mode": "markers",
         "type": "scatter",
         "x": [
          0.41293930197426093
         ],
         "y": [
          0.23273426682798748
         ]
        },
        {
         "marker": {
          "color": "blue",
          "size": 5
         },
         "mode": "markers",
         "type": "scatter",
         "x": [
          0.41351577455562033
         ],
         "y": [
          0.038868145224694034
         ]
        },
        {
         "marker": {
          "color": "blue",
          "size": 5
         },
         "mode": "markers",
         "type": "scatter",
         "x": [
          0.3181345840149426
         ],
         "y": [
          0.31229697930257017
         ]
        },
        {
         "marker": {
          "color": "blue",
          "size": 5
         },
         "mode": "markers",
         "type": "scatter",
         "x": [
          1.0426356656011493
         ],
         "y": [
          0.07499915464880876
         ]
        },
        {
         "marker": {
          "color": "blue",
          "size": 5
         },
         "mode": "markers",
         "type": "scatter",
         "x": [
          0.7489641628608993
         ],
         "y": [
          0.08518044431288063
         ]
        },
        {
         "marker": {
          "color": "blue",
          "size": 5
         },
         "mode": "markers",
         "type": "scatter",
         "x": [
          1.4570910854407595
         ],
         "y": [
          0.32916261781194084
         ]
        },
        {
         "marker": {
          "color": "blue",
          "size": 5
         },
         "mode": "markers",
         "type": "scatter",
         "x": [
          0.8805189982296591
         ],
         "y": [
          0.7972137190054558
         ]
        },
        {
         "marker": {
          "color": "blue",
          "size": 5
         },
         "mode": "markers",
         "type": "scatter",
         "x": [
          0.32688110119270813
         ],
         "y": [
          0.35826529948483093
         ]
        },
        {
         "marker": {
          "color": "blue",
          "size": 5
         },
         "mode": "markers",
         "type": "scatter",
         "x": [
          1.3705963744173786
         ],
         "y": [
          -0.04152329100910557
         ]
        },
        {
         "marker": {
          "color": "blue",
          "size": 5
         },
         "mode": "markers",
         "type": "scatter",
         "x": [
          0.24700531152067978
         ],
         "y": [
          0.17189728584346867
         ]
        },
        {
         "marker": {
          "color": "blue",
          "size": 5
         },
         "mode": "markers",
         "type": "scatter",
         "x": [
          0.5589236079469272
         ],
         "y": [
          0.1217082582491288
         ]
        },
        {
         "marker": {
          "color": "blue",
          "size": 5
         },
         "mode": "markers",
         "type": "scatter",
         "x": [
          0.3120157441989605
         ],
         "y": [
          0.33749223826508307
         ]
        },
        {
         "marker": {
          "color": "blue",
          "size": 5
         },
         "mode": "markers",
         "type": "scatter",
         "x": [
          0.34982405823856494
         ],
         "y": [
          0.3117384610984522
         ]
        },
        {
         "marker": {
          "color": "blue",
          "size": 5
         },
         "mode": "markers",
         "type": "scatter",
         "x": [
          0.537150797187746
         ],
         "y": [
          0.04582649503842993
         ]
        },
        {
         "marker": {
          "color": "blue",
          "size": 5
         },
         "mode": "markers",
         "type": "scatter",
         "x": [
          0.2810533081525378
         ],
         "y": [
          0.17086848059029067
         ]
        },
        {
         "marker": {
          "color": "blue",
          "size": 5
         },
         "mode": "markers",
         "type": "scatter",
         "x": [
          0.6829547257269666
         ],
         "y": [
          0.34472007042584185
         ]
        },
        {
         "marker": {
          "color": "blue",
          "size": 5
         },
         "mode": "markers",
         "type": "scatter",
         "x": [
          0.6662107094123403
         ],
         "y": [
          0.18940294547591957
         ]
        },
        {
         "marker": {
          "color": "blue",
          "size": 5
         },
         "mode": "markers",
         "type": "scatter",
         "x": [
          0.39199722546451
         ],
         "y": [
          0.16727858402009638
         ]
        },
        {
         "marker": {
          "color": "blue",
          "size": 5
         },
         "mode": "markers",
         "type": "scatter",
         "x": [
          0.331129213648081
         ],
         "y": [
          0.29800724191453487
         ]
        },
        {
         "marker": {
          "color": "blue",
          "size": 5
         },
         "mode": "markers",
         "type": "scatter",
         "x": [
          0.5261893910910224
         ],
         "y": [
          0.2877063114211988
         ]
        },
        {
         "marker": {
          "color": "blue",
          "size": 5
         },
         "mode": "markers",
         "type": "scatter",
         "x": [
          0.4226551761882098
         ],
         "y": [
          0.33711278393488275
         ]
        },
        {
         "marker": {
          "color": "blue",
          "size": 5
         },
         "mode": "markers",
         "type": "scatter",
         "x": [
          0.2869771599803868
         ],
         "y": [
          0.28613359889778384
         ]
        },
        {
         "marker": {
          "color": "blue",
          "size": 5
         },
         "mode": "markers",
         "type": "scatter",
         "x": [
          1.5184321132644982
         ],
         "y": [
          0.2711032431149631
         ]
        }
       ],
       "layout": {
        "template": {
         "data": {
          "bar": [
           {
            "error_x": {
             "color": "#2a3f5f"
            },
            "error_y": {
             "color": "#2a3f5f"
            },
            "marker": {
             "line": {
              "color": "#E5ECF6",
              "width": 0.5
             },
             "pattern": {
              "fillmode": "overlay",
              "size": 10,
              "solidity": 0.2
             }
            },
            "type": "bar"
           }
          ],
          "barpolar": [
           {
            "marker": {
             "line": {
              "color": "#E5ECF6",
              "width": 0.5
             },
             "pattern": {
              "fillmode": "overlay",
              "size": 10,
              "solidity": 0.2
             }
            },
            "type": "barpolar"
           }
          ],
          "carpet": [
           {
            "aaxis": {
             "endlinecolor": "#2a3f5f",
             "gridcolor": "white",
             "linecolor": "white",
             "minorgridcolor": "white",
             "startlinecolor": "#2a3f5f"
            },
            "baxis": {
             "endlinecolor": "#2a3f5f",
             "gridcolor": "white",
             "linecolor": "white",
             "minorgridcolor": "white",
             "startlinecolor": "#2a3f5f"
            },
            "type": "carpet"
           }
          ],
          "choropleth": [
           {
            "colorbar": {
             "outlinewidth": 0,
             "ticks": ""
            },
            "type": "choropleth"
           }
          ],
          "contour": [
           {
            "colorbar": {
             "outlinewidth": 0,
             "ticks": ""
            },
            "colorscale": [
             [
              0,
              "#0d0887"
             ],
             [
              0.1111111111111111,
              "#46039f"
             ],
             [
              0.2222222222222222,
              "#7201a8"
             ],
             [
              0.3333333333333333,
              "#9c179e"
             ],
             [
              0.4444444444444444,
              "#bd3786"
             ],
             [
              0.5555555555555556,
              "#d8576b"
             ],
             [
              0.6666666666666666,
              "#ed7953"
             ],
             [
              0.7777777777777778,
              "#fb9f3a"
             ],
             [
              0.8888888888888888,
              "#fdca26"
             ],
             [
              1,
              "#f0f921"
             ]
            ],
            "type": "contour"
           }
          ],
          "contourcarpet": [
           {
            "colorbar": {
             "outlinewidth": 0,
             "ticks": ""
            },
            "type": "contourcarpet"
           }
          ],
          "heatmap": [
           {
            "colorbar": {
             "outlinewidth": 0,
             "ticks": ""
            },
            "colorscale": [
             [
              0,
              "#0d0887"
             ],
             [
              0.1111111111111111,
              "#46039f"
             ],
             [
              0.2222222222222222,
              "#7201a8"
             ],
             [
              0.3333333333333333,
              "#9c179e"
             ],
             [
              0.4444444444444444,
              "#bd3786"
             ],
             [
              0.5555555555555556,
              "#d8576b"
             ],
             [
              0.6666666666666666,
              "#ed7953"
             ],
             [
              0.7777777777777778,
              "#fb9f3a"
             ],
             [
              0.8888888888888888,
              "#fdca26"
             ],
             [
              1,
              "#f0f921"
             ]
            ],
            "type": "heatmap"
           }
          ],
          "heatmapgl": [
           {
            "colorbar": {
             "outlinewidth": 0,
             "ticks": ""
            },
            "colorscale": [
             [
              0,
              "#0d0887"
             ],
             [
              0.1111111111111111,
              "#46039f"
             ],
             [
              0.2222222222222222,
              "#7201a8"
             ],
             [
              0.3333333333333333,
              "#9c179e"
             ],
             [
              0.4444444444444444,
              "#bd3786"
             ],
             [
              0.5555555555555556,
              "#d8576b"
             ],
             [
              0.6666666666666666,
              "#ed7953"
             ],
             [
              0.7777777777777778,
              "#fb9f3a"
             ],
             [
              0.8888888888888888,
              "#fdca26"
             ],
             [
              1,
              "#f0f921"
             ]
            ],
            "type": "heatmapgl"
           }
          ],
          "histogram": [
           {
            "marker": {
             "pattern": {
              "fillmode": "overlay",
              "size": 10,
              "solidity": 0.2
             }
            },
            "type": "histogram"
           }
          ],
          "histogram2d": [
           {
            "colorbar": {
             "outlinewidth": 0,
             "ticks": ""
            },
            "colorscale": [
             [
              0,
              "#0d0887"
             ],
             [
              0.1111111111111111,
              "#46039f"
             ],
             [
              0.2222222222222222,
              "#7201a8"
             ],
             [
              0.3333333333333333,
              "#9c179e"
             ],
             [
              0.4444444444444444,
              "#bd3786"
             ],
             [
              0.5555555555555556,
              "#d8576b"
             ],
             [
              0.6666666666666666,
              "#ed7953"
             ],
             [
              0.7777777777777778,
              "#fb9f3a"
             ],
             [
              0.8888888888888888,
              "#fdca26"
             ],
             [
              1,
              "#f0f921"
             ]
            ],
            "type": "histogram2d"
           }
          ],
          "histogram2dcontour": [
           {
            "colorbar": {
             "outlinewidth": 0,
             "ticks": ""
            },
            "colorscale": [
             [
              0,
              "#0d0887"
             ],
             [
              0.1111111111111111,
              "#46039f"
             ],
             [
              0.2222222222222222,
              "#7201a8"
             ],
             [
              0.3333333333333333,
              "#9c179e"
             ],
             [
              0.4444444444444444,
              "#bd3786"
             ],
             [
              0.5555555555555556,
              "#d8576b"
             ],
             [
              0.6666666666666666,
              "#ed7953"
             ],
             [
              0.7777777777777778,
              "#fb9f3a"
             ],
             [
              0.8888888888888888,
              "#fdca26"
             ],
             [
              1,
              "#f0f921"
             ]
            ],
            "type": "histogram2dcontour"
           }
          ],
          "mesh3d": [
           {
            "colorbar": {
             "outlinewidth": 0,
             "ticks": ""
            },
            "type": "mesh3d"
           }
          ],
          "parcoords": [
           {
            "line": {
             "colorbar": {
              "outlinewidth": 0,
              "ticks": ""
             }
            },
            "type": "parcoords"
           }
          ],
          "pie": [
           {
            "automargin": true,
            "type": "pie"
           }
          ],
          "scatter": [
           {
            "fillpattern": {
             "fillmode": "overlay",
             "size": 10,
             "solidity": 0.2
            },
            "type": "scatter"
           }
          ],
          "scatter3d": [
           {
            "line": {
             "colorbar": {
              "outlinewidth": 0,
              "ticks": ""
             }
            },
            "marker": {
             "colorbar": {
              "outlinewidth": 0,
              "ticks": ""
             }
            },
            "type": "scatter3d"
           }
          ],
          "scattercarpet": [
           {
            "marker": {
             "colorbar": {
              "outlinewidth": 0,
              "ticks": ""
             }
            },
            "type": "scattercarpet"
           }
          ],
          "scattergeo": [
           {
            "marker": {
             "colorbar": {
              "outlinewidth": 0,
              "ticks": ""
             }
            },
            "type": "scattergeo"
           }
          ],
          "scattergl": [
           {
            "marker": {
             "colorbar": {
              "outlinewidth": 0,
              "ticks": ""
             }
            },
            "type": "scattergl"
           }
          ],
          "scattermapbox": [
           {
            "marker": {
             "colorbar": {
              "outlinewidth": 0,
              "ticks": ""
             }
            },
            "type": "scattermapbox"
           }
          ],
          "scatterpolar": [
           {
            "marker": {
             "colorbar": {
              "outlinewidth": 0,
              "ticks": ""
             }
            },
            "type": "scatterpolar"
           }
          ],
          "scatterpolargl": [
           {
            "marker": {
             "colorbar": {
              "outlinewidth": 0,
              "ticks": ""
             }
            },
            "type": "scatterpolargl"
           }
          ],
          "scatterternary": [
           {
            "marker": {
             "colorbar": {
              "outlinewidth": 0,
              "ticks": ""
             }
            },
            "type": "scatterternary"
           }
          ],
          "surface": [
           {
            "colorbar": {
             "outlinewidth": 0,
             "ticks": ""
            },
            "colorscale": [
             [
              0,
              "#0d0887"
             ],
             [
              0.1111111111111111,
              "#46039f"
             ],
             [
              0.2222222222222222,
              "#7201a8"
             ],
             [
              0.3333333333333333,
              "#9c179e"
             ],
             [
              0.4444444444444444,
              "#bd3786"
             ],
             [
              0.5555555555555556,
              "#d8576b"
             ],
             [
              0.6666666666666666,
              "#ed7953"
             ],
             [
              0.7777777777777778,
              "#fb9f3a"
             ],
             [
              0.8888888888888888,
              "#fdca26"
             ],
             [
              1,
              "#f0f921"
             ]
            ],
            "type": "surface"
           }
          ],
          "table": [
           {
            "cells": {
             "fill": {
              "color": "#EBF0F8"
             },
             "line": {
              "color": "white"
             }
            },
            "header": {
             "fill": {
              "color": "#C8D4E3"
             },
             "line": {
              "color": "white"
             }
            },
            "type": "table"
           }
          ]
         },
         "layout": {
          "annotationdefaults": {
           "arrowcolor": "#2a3f5f",
           "arrowhead": 0,
           "arrowwidth": 1
          },
          "autotypenumbers": "strict",
          "coloraxis": {
           "colorbar": {
            "outlinewidth": 0,
            "ticks": ""
           }
          },
          "colorscale": {
           "diverging": [
            [
             0,
             "#8e0152"
            ],
            [
             0.1,
             "#c51b7d"
            ],
            [
             0.2,
             "#de77ae"
            ],
            [
             0.3,
             "#f1b6da"
            ],
            [
             0.4,
             "#fde0ef"
            ],
            [
             0.5,
             "#f7f7f7"
            ],
            [
             0.6,
             "#e6f5d0"
            ],
            [
             0.7,
             "#b8e186"
            ],
            [
             0.8,
             "#7fbc41"
            ],
            [
             0.9,
             "#4d9221"
            ],
            [
             1,
             "#276419"
            ]
           ],
           "sequential": [
            [
             0,
             "#0d0887"
            ],
            [
             0.1111111111111111,
             "#46039f"
            ],
            [
             0.2222222222222222,
             "#7201a8"
            ],
            [
             0.3333333333333333,
             "#9c179e"
            ],
            [
             0.4444444444444444,
             "#bd3786"
            ],
            [
             0.5555555555555556,
             "#d8576b"
            ],
            [
             0.6666666666666666,
             "#ed7953"
            ],
            [
             0.7777777777777778,
             "#fb9f3a"
            ],
            [
             0.8888888888888888,
             "#fdca26"
            ],
            [
             1,
             "#f0f921"
            ]
           ],
           "sequentialminus": [
            [
             0,
             "#0d0887"
            ],
            [
             0.1111111111111111,
             "#46039f"
            ],
            [
             0.2222222222222222,
             "#7201a8"
            ],
            [
             0.3333333333333333,
             "#9c179e"
            ],
            [
             0.4444444444444444,
             "#bd3786"
            ],
            [
             0.5555555555555556,
             "#d8576b"
            ],
            [
             0.6666666666666666,
             "#ed7953"
            ],
            [
             0.7777777777777778,
             "#fb9f3a"
            ],
            [
             0.8888888888888888,
             "#fdca26"
            ],
            [
             1,
             "#f0f921"
            ]
           ]
          },
          "colorway": [
           "#636efa",
           "#EF553B",
           "#00cc96",
           "#ab63fa",
           "#FFA15A",
           "#19d3f3",
           "#FF6692",
           "#B6E880",
           "#FF97FF",
           "#FECB52"
          ],
          "font": {
           "color": "#2a3f5f"
          },
          "geo": {
           "bgcolor": "white",
           "lakecolor": "white",
           "landcolor": "#E5ECF6",
           "showlakes": true,
           "showland": true,
           "subunitcolor": "white"
          },
          "hoverlabel": {
           "align": "left"
          },
          "hovermode": "closest",
          "mapbox": {
           "style": "light"
          },
          "paper_bgcolor": "white",
          "plot_bgcolor": "#E5ECF6",
          "polar": {
           "angularaxis": {
            "gridcolor": "white",
            "linecolor": "white",
            "ticks": ""
           },
           "bgcolor": "#E5ECF6",
           "radialaxis": {
            "gridcolor": "white",
            "linecolor": "white",
            "ticks": ""
           }
          },
          "scene": {
           "xaxis": {
            "backgroundcolor": "#E5ECF6",
            "gridcolor": "white",
            "gridwidth": 2,
            "linecolor": "white",
            "showbackground": true,
            "ticks": "",
            "zerolinecolor": "white"
           },
           "yaxis": {
            "backgroundcolor": "#E5ECF6",
            "gridcolor": "white",
            "gridwidth": 2,
            "linecolor": "white",
            "showbackground": true,
            "ticks": "",
            "zerolinecolor": "white"
           },
           "zaxis": {
            "backgroundcolor": "#E5ECF6",
            "gridcolor": "white",
            "gridwidth": 2,
            "linecolor": "white",
            "showbackground": true,
            "ticks": "",
            "zerolinecolor": "white"
           }
          },
          "shapedefaults": {
           "line": {
            "color": "#2a3f5f"
           }
          },
          "ternary": {
           "aaxis": {
            "gridcolor": "white",
            "linecolor": "white",
            "ticks": ""
           },
           "baxis": {
            "gridcolor": "white",
            "linecolor": "white",
            "ticks": ""
           },
           "bgcolor": "#E5ECF6",
           "caxis": {
            "gridcolor": "white",
            "linecolor": "white",
            "ticks": ""
           }
          },
          "title": {
           "x": 0.05
          },
          "xaxis": {
           "automargin": true,
           "gridcolor": "white",
           "linecolor": "white",
           "ticks": "",
           "title": {
            "standoff": 15
           },
           "zerolinecolor": "white",
           "zerolinewidth": 2
          },
          "yaxis": {
           "automargin": true,
           "gridcolor": "white",
           "linecolor": "white",
           "ticks": "",
           "title": {
            "standoff": 15
           },
           "zerolinecolor": "white",
           "zerolinewidth": 2
          }
         }
        },
        "title": {
         "text": "Risk and Return"
        },
        "xaxis": {
         "title": {
          "text": "Risk"
         }
        },
        "yaxis": {
         "title": {
          "text": "Return"
         }
        }
       }
      }
     },
     "metadata": {},
     "output_type": "display_data"
    },
    {
     "data": {
      "application/vnd.plotly.v1+json": {
       "config": {
        "plotlyServerURL": "https://plot.ly"
       },
       "data": [],
       "layout": {
        "template": {
         "data": {
          "bar": [
           {
            "error_x": {
             "color": "#2a3f5f"
            },
            "error_y": {
             "color": "#2a3f5f"
            },
            "marker": {
             "line": {
              "color": "#E5ECF6",
              "width": 0.5
             },
             "pattern": {
              "fillmode": "overlay",
              "size": 10,
              "solidity": 0.2
             }
            },
            "type": "bar"
           }
          ],
          "barpolar": [
           {
            "marker": {
             "line": {
              "color": "#E5ECF6",
              "width": 0.5
             },
             "pattern": {
              "fillmode": "overlay",
              "size": 10,
              "solidity": 0.2
             }
            },
            "type": "barpolar"
           }
          ],
          "carpet": [
           {
            "aaxis": {
             "endlinecolor": "#2a3f5f",
             "gridcolor": "white",
             "linecolor": "white",
             "minorgridcolor": "white",
             "startlinecolor": "#2a3f5f"
            },
            "baxis": {
             "endlinecolor": "#2a3f5f",
             "gridcolor": "white",
             "linecolor": "white",
             "minorgridcolor": "white",
             "startlinecolor": "#2a3f5f"
            },
            "type": "carpet"
           }
          ],
          "choropleth": [
           {
            "colorbar": {
             "outlinewidth": 0,
             "ticks": ""
            },
            "type": "choropleth"
           }
          ],
          "contour": [
           {
            "colorbar": {
             "outlinewidth": 0,
             "ticks": ""
            },
            "colorscale": [
             [
              0,
              "#0d0887"
             ],
             [
              0.1111111111111111,
              "#46039f"
             ],
             [
              0.2222222222222222,
              "#7201a8"
             ],
             [
              0.3333333333333333,
              "#9c179e"
             ],
             [
              0.4444444444444444,
              "#bd3786"
             ],
             [
              0.5555555555555556,
              "#d8576b"
             ],
             [
              0.6666666666666666,
              "#ed7953"
             ],
             [
              0.7777777777777778,
              "#fb9f3a"
             ],
             [
              0.8888888888888888,
              "#fdca26"
             ],
             [
              1,
              "#f0f921"
             ]
            ],
            "type": "contour"
           }
          ],
          "contourcarpet": [
           {
            "colorbar": {
             "outlinewidth": 0,
             "ticks": ""
            },
            "type": "contourcarpet"
           }
          ],
          "heatmap": [
           {
            "colorbar": {
             "outlinewidth": 0,
             "ticks": ""
            },
            "colorscale": [
             [
              0,
              "#0d0887"
             ],
             [
              0.1111111111111111,
              "#46039f"
             ],
             [
              0.2222222222222222,
              "#7201a8"
             ],
             [
              0.3333333333333333,
              "#9c179e"
             ],
             [
              0.4444444444444444,
              "#bd3786"
             ],
             [
              0.5555555555555556,
              "#d8576b"
             ],
             [
              0.6666666666666666,
              "#ed7953"
             ],
             [
              0.7777777777777778,
              "#fb9f3a"
             ],
             [
              0.8888888888888888,
              "#fdca26"
             ],
             [
              1,
              "#f0f921"
             ]
            ],
            "type": "heatmap"
           }
          ],
          "heatmapgl": [
           {
            "colorbar": {
             "outlinewidth": 0,
             "ticks": ""
            },
            "colorscale": [
             [
              0,
              "#0d0887"
             ],
             [
              0.1111111111111111,
              "#46039f"
             ],
             [
              0.2222222222222222,
              "#7201a8"
             ],
             [
              0.3333333333333333,
              "#9c179e"
             ],
             [
              0.4444444444444444,
              "#bd3786"
             ],
             [
              0.5555555555555556,
              "#d8576b"
             ],
             [
              0.6666666666666666,
              "#ed7953"
             ],
             [
              0.7777777777777778,
              "#fb9f3a"
             ],
             [
              0.8888888888888888,
              "#fdca26"
             ],
             [
              1,
              "#f0f921"
             ]
            ],
            "type": "heatmapgl"
           }
          ],
          "histogram": [
           {
            "marker": {
             "pattern": {
              "fillmode": "overlay",
              "size": 10,
              "solidity": 0.2
             }
            },
            "type": "histogram"
           }
          ],
          "histogram2d": [
           {
            "colorbar": {
             "outlinewidth": 0,
             "ticks": ""
            },
            "colorscale": [
             [
              0,
              "#0d0887"
             ],
             [
              0.1111111111111111,
              "#46039f"
             ],
             [
              0.2222222222222222,
              "#7201a8"
             ],
             [
              0.3333333333333333,
              "#9c179e"
             ],
             [
              0.4444444444444444,
              "#bd3786"
             ],
             [
              0.5555555555555556,
              "#d8576b"
             ],
             [
              0.6666666666666666,
              "#ed7953"
             ],
             [
              0.7777777777777778,
              "#fb9f3a"
             ],
             [
              0.8888888888888888,
              "#fdca26"
             ],
             [
              1,
              "#f0f921"
             ]
            ],
            "type": "histogram2d"
           }
          ],
          "histogram2dcontour": [
           {
            "colorbar": {
             "outlinewidth": 0,
             "ticks": ""
            },
            "colorscale": [
             [
              0,
              "#0d0887"
             ],
             [
              0.1111111111111111,
              "#46039f"
             ],
             [
              0.2222222222222222,
              "#7201a8"
             ],
             [
              0.3333333333333333,
              "#9c179e"
             ],
             [
              0.4444444444444444,
              "#bd3786"
             ],
             [
              0.5555555555555556,
              "#d8576b"
             ],
             [
              0.6666666666666666,
              "#ed7953"
             ],
             [
              0.7777777777777778,
              "#fb9f3a"
             ],
             [
              0.8888888888888888,
              "#fdca26"
             ],
             [
              1,
              "#f0f921"
             ]
            ],
            "type": "histogram2dcontour"
           }
          ],
          "mesh3d": [
           {
            "colorbar": {
             "outlinewidth": 0,
             "ticks": ""
            },
            "type": "mesh3d"
           }
          ],
          "parcoords": [
           {
            "line": {
             "colorbar": {
              "outlinewidth": 0,
              "ticks": ""
             }
            },
            "type": "parcoords"
           }
          ],
          "pie": [
           {
            "automargin": true,
            "type": "pie"
           }
          ],
          "scatter": [
           {
            "fillpattern": {
             "fillmode": "overlay",
             "size": 10,
             "solidity": 0.2
            },
            "type": "scatter"
           }
          ],
          "scatter3d": [
           {
            "line": {
             "colorbar": {
              "outlinewidth": 0,
              "ticks": ""
             }
            },
            "marker": {
             "colorbar": {
              "outlinewidth": 0,
              "ticks": ""
             }
            },
            "type": "scatter3d"
           }
          ],
          "scattercarpet": [
           {
            "marker": {
             "colorbar": {
              "outlinewidth": 0,
              "ticks": ""
             }
            },
            "type": "scattercarpet"
           }
          ],
          "scattergeo": [
           {
            "marker": {
             "colorbar": {
              "outlinewidth": 0,
              "ticks": ""
             }
            },
            "type": "scattergeo"
           }
          ],
          "scattergl": [
           {
            "marker": {
             "colorbar": {
              "outlinewidth": 0,
              "ticks": ""
             }
            },
            "type": "scattergl"
           }
          ],
          "scattermapbox": [
           {
            "marker": {
             "colorbar": {
              "outlinewidth": 0,
              "ticks": ""
             }
            },
            "type": "scattermapbox"
           }
          ],
          "scatterpolar": [
           {
            "marker": {
             "colorbar": {
              "outlinewidth": 0,
              "ticks": ""
             }
            },
            "type": "scatterpolar"
           }
          ],
          "scatterpolargl": [
           {
            "marker": {
             "colorbar": {
              "outlinewidth": 0,
              "ticks": ""
             }
            },
            "type": "scatterpolargl"
           }
          ],
          "scatterternary": [
           {
            "marker": {
             "colorbar": {
              "outlinewidth": 0,
              "ticks": ""
             }
            },
            "type": "scatterternary"
           }
          ],
          "surface": [
           {
            "colorbar": {
             "outlinewidth": 0,
             "ticks": ""
            },
            "colorscale": [
             [
              0,
              "#0d0887"
             ],
             [
              0.1111111111111111,
              "#46039f"
             ],
             [
              0.2222222222222222,
              "#7201a8"
             ],
             [
              0.3333333333333333,
              "#9c179e"
             ],
             [
              0.4444444444444444,
              "#bd3786"
             ],
             [
              0.5555555555555556,
              "#d8576b"
             ],
             [
              0.6666666666666666,
              "#ed7953"
             ],
             [
              0.7777777777777778,
              "#fb9f3a"
             ],
             [
              0.8888888888888888,
              "#fdca26"
             ],
             [
              1,
              "#f0f921"
             ]
            ],
            "type": "surface"
           }
          ],
          "table": [
           {
            "cells": {
             "fill": {
              "color": "#EBF0F8"
             },
             "line": {
              "color": "white"
             }
            },
            "header": {
             "fill": {
              "color": "#C8D4E3"
             },
             "line": {
              "color": "white"
             }
            },
            "type": "table"
           }
          ]
         },
         "layout": {
          "annotationdefaults": {
           "arrowcolor": "#2a3f5f",
           "arrowhead": 0,
           "arrowwidth": 1
          },
          "autotypenumbers": "strict",
          "coloraxis": {
           "colorbar": {
            "outlinewidth": 0,
            "ticks": ""
           }
          },
          "colorscale": {
           "diverging": [
            [
             0,
             "#8e0152"
            ],
            [
             0.1,
             "#c51b7d"
            ],
            [
             0.2,
             "#de77ae"
            ],
            [
             0.3,
             "#f1b6da"
            ],
            [
             0.4,
             "#fde0ef"
            ],
            [
             0.5,
             "#f7f7f7"
            ],
            [
             0.6,
             "#e6f5d0"
            ],
            [
             0.7,
             "#b8e186"
            ],
            [
             0.8,
             "#7fbc41"
            ],
            [
             0.9,
             "#4d9221"
            ],
            [
             1,
             "#276419"
            ]
           ],
           "sequential": [
            [
             0,
             "#0d0887"
            ],
            [
             0.1111111111111111,
             "#46039f"
            ],
            [
             0.2222222222222222,
             "#7201a8"
            ],
            [
             0.3333333333333333,
             "#9c179e"
            ],
            [
             0.4444444444444444,
             "#bd3786"
            ],
            [
             0.5555555555555556,
             "#d8576b"
            ],
            [
             0.6666666666666666,
             "#ed7953"
            ],
            [
             0.7777777777777778,
             "#fb9f3a"
            ],
            [
             0.8888888888888888,
             "#fdca26"
            ],
            [
             1,
             "#f0f921"
            ]
           ],
           "sequentialminus": [
            [
             0,
             "#0d0887"
            ],
            [
             0.1111111111111111,
             "#46039f"
            ],
            [
             0.2222222222222222,
             "#7201a8"
            ],
            [
             0.3333333333333333,
             "#9c179e"
            ],
            [
             0.4444444444444444,
             "#bd3786"
            ],
            [
             0.5555555555555556,
             "#d8576b"
            ],
            [
             0.6666666666666666,
             "#ed7953"
            ],
            [
             0.7777777777777778,
             "#fb9f3a"
            ],
            [
             0.8888888888888888,
             "#fdca26"
            ],
            [
             1,
             "#f0f921"
            ]
           ]
          },
          "colorway": [
           "#636efa",
           "#EF553B",
           "#00cc96",
           "#ab63fa",
           "#FFA15A",
           "#19d3f3",
           "#FF6692",
           "#B6E880",
           "#FF97FF",
           "#FECB52"
          ],
          "font": {
           "color": "#2a3f5f"
          },
          "geo": {
           "bgcolor": "white",
           "lakecolor": "white",
           "landcolor": "#E5ECF6",
           "showlakes": true,
           "showland": true,
           "subunitcolor": "white"
          },
          "hoverlabel": {
           "align": "left"
          },
          "hovermode": "closest",
          "mapbox": {
           "style": "light"
          },
          "paper_bgcolor": "white",
          "plot_bgcolor": "#E5ECF6",
          "polar": {
           "angularaxis": {
            "gridcolor": "white",
            "linecolor": "white",
            "ticks": ""
           },
           "bgcolor": "#E5ECF6",
           "radialaxis": {
            "gridcolor": "white",
            "linecolor": "white",
            "ticks": ""
           }
          },
          "scene": {
           "xaxis": {
            "backgroundcolor": "#E5ECF6",
            "gridcolor": "white",
            "gridwidth": 2,
            "linecolor": "white",
            "showbackground": true,
            "ticks": "",
            "zerolinecolor": "white"
           },
           "yaxis": {
            "backgroundcolor": "#E5ECF6",
            "gridcolor": "white",
            "gridwidth": 2,
            "linecolor": "white",
            "showbackground": true,
            "ticks": "",
            "zerolinecolor": "white"
           },
           "zaxis": {
            "backgroundcolor": "#E5ECF6",
            "gridcolor": "white",
            "gridwidth": 2,
            "linecolor": "white",
            "showbackground": true,
            "ticks": "",
            "zerolinecolor": "white"
           }
          },
          "shapedefaults": {
           "line": {
            "color": "#2a3f5f"
           }
          },
          "ternary": {
           "aaxis": {
            "gridcolor": "white",
            "linecolor": "white",
            "ticks": ""
           },
           "baxis": {
            "gridcolor": "white",
            "linecolor": "white",
            "ticks": ""
           },
           "bgcolor": "#E5ECF6",
           "caxis": {
            "gridcolor": "white",
            "linecolor": "white",
            "ticks": ""
           }
          },
          "title": {
           "x": 0.05
          },
          "xaxis": {
           "automargin": true,
           "gridcolor": "white",
           "linecolor": "white",
           "ticks": "",
           "title": {
            "standoff": 15
           },
           "zerolinecolor": "white",
           "zerolinewidth": 2
          },
          "yaxis": {
           "automargin": true,
           "gridcolor": "white",
           "linecolor": "white",
           "ticks": "",
           "title": {
            "standoff": 15
           },
           "zerolinecolor": "white",
           "zerolinewidth": 2
          }
         }
        }
       }
      }
     },
     "metadata": {},
     "output_type": "display_data"
    }
   ],
   "source": [
    "fig = go.Figure()\n",
    "plot_points(array_returns, array_std, tickers)\n",
    "plot_random_portfolios(array_returns, cov_matrix, 100)\n",
    "fig.show()"
   ]
  },
  {
   "cell_type": "code",
   "execution_count": null,
   "metadata": {},
   "outputs": [],
   "source": []
  }
 ],
 "metadata": {
  "kernelspec": {
   "display_name": ".venv",
   "language": "python",
   "name": "python3"
  },
  "language_info": {
   "codemirror_mode": {
    "name": "ipython",
    "version": 3
   },
   "file_extension": ".py",
   "mimetype": "text/x-python",
   "name": "python",
   "nbconvert_exporter": "python",
   "pygments_lexer": "ipython3",
   "version": "3.12.7"
  }
 },
 "nbformat": 4,
 "nbformat_minor": 2
}
