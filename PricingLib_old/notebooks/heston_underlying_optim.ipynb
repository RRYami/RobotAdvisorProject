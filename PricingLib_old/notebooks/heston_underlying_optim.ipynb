{
 "cells": [
  {
   "cell_type": "code",
   "execution_count": 1,
   "metadata": {},
   "outputs": [],
   "source": [
    "import pandas as pd\n",
    "import numpy as np\n",
    "import matplotlib.pyplot as plt\n",
    "import seaborn as sns\n",
    "import yfinance as yf\n",
    "from scipy.optimize import minimize\n",
    "from IPython.display import display, Latex\n",
    "\n",
    "plt.style.use(\n",
    "    \"https://github.com/dhaitz/matplotlib-stylesheets/raw/master/pitayasmoothie-dark.mplstyle\"\n",
    ")"
   ]
  },
  {
   "cell_type": "code",
   "execution_count": 2,
   "metadata": {},
   "outputs": [],
   "source": [
    "def log_likelihood_computation(returns, params):\n",
    "    theta, kappa, sigma,rho, mu = [param for param in params.values()]\n",
    "    residuals = returns - mu\n",
    "    expected_variance = ((returns - mu) ** 2) + kappa * (theta - (returns - mu)**2)\n",
    "    log_likelihood_part1 =  1 / (2 * np.pi * np.sqrt(expected_variance) * sigma * np.sqrt(1 - rho**2))\n",
    "    log_likelihood_part2 = np.exp(-((((residuals / np.sqrt(expected_variance))**2) \n",
    "                                    - 2 * rho * (residuals / np.sqrt(expected_variance)) * \n",
    "                                    (((residuals**2 - expected_variance) / sigma)) + \n",
    "                                    (((residuals**2 - expected_variance) / sigma)**2)) / (2 * (1 - rho**2))))\n",
    "    log_likelihood = np.log(log_likelihood_part1 * log_likelihood_part2)\n",
    "    return log_likelihood\n",
    "\n",
    "def log_likelihood(x, returns):\n",
    "    theta, kappa, sigma,rho, mu = [param for param in x]\n",
    "    \n",
    "    lg = np.sum(log_likelihood_computation(returns, {\"theta\": theta, \"kappa\": kappa, \"sigma\": sigma, \"rho\": rho, \"mu\": mu}))\n",
    "    \n",
    "    return -lg"
   ]
  },
  {
   "cell_type": "code",
   "execution_count": 3,
   "metadata": {},
   "outputs": [],
   "source": [
    "returns_raw = pd.read_excel(r'C:\\Users\\rrenard\\OneDrive - Arkus\\Desktop\\spx.xlsx')"
   ]
  },
  {
   "cell_type": "code",
   "execution_count": 4,
   "metadata": {},
   "outputs": [],
   "source": [
    "returns = np.log(returns_raw['SPX'] / returns_raw['SPX'].shift(1)) *100"
   ]
  },
  {
   "cell_type": "code",
   "execution_count": 5,
   "metadata": {},
   "outputs": [],
   "source": [
    "returns_array = np.array(returns)\n",
    "# drop nan values\n",
    "returns_array = returns_array[1:]"
   ]
  },
  {
   "cell_type": "code",
   "execution_count": 79,
   "metadata": {},
   "outputs": [],
   "source": [
    "params = {\"theta\": {\"x0\": 0.682, \"lbud\": [1e-8,None]},\n",
    "          \"kappa\": {\"x0\": 1, \"lbud\": [1e-8,None]},\n",
    "          \"sigma\": {\"x0\": 1.130, \"lbud\": [1e-8,None]},\n",
    "          \"rho\": {\"x0\": 0, \"lbud\": [-1,1]},\n",
    "          \"mu\": {\"x0\": 0.095, \"lbud\": [1e-8,None]}\n",
    "          }\n",
    "\n",
    "x0 = [param[\"x0\"] for key, param in params.items()]\n",
    "bnds = [params['lbud'] for key, params in params.items()]"
   ]
  },
  {
   "cell_type": "code",
   "execution_count": 80,
   "metadata": {},
   "outputs": [
    {
     "name": "stderr",
     "output_type": "stream",
     "text": [
      "C:\\Users\\rrenard\\AppData\\Local\\Temp\\ipykernel_11052\\3109690707.py:5: RuntimeWarning: divide by zero encountered in divide\n",
      "  log_likelihood_part1 =  1 / (2 * np.pi * np.sqrt(expected_variance) * sigma * np.sqrt(1 - rho**2))\n",
      "C:\\Users\\rrenard\\AppData\\Local\\Temp\\ipykernel_11052\\3109690707.py:6: RuntimeWarning: divide by zero encountered in divide\n",
      "  log_likelihood_part2 = np.exp(-((((residuals / np.sqrt(expected_variance))**2)\n",
      "C:\\Users\\rrenard\\AppData\\Local\\Temp\\ipykernel_11052\\3109690707.py:10: RuntimeWarning: invalid value encountered in multiply\n",
      "  log_likelihood = np.log(log_likelihood_part1 * log_likelihood_part2)\n"
     ]
    }
   ],
   "source": [
    "result = minimize(log_likelihood, x0, args=(returns_array), bounds=bnds, method='SLSQP')"
   ]
  },
  {
   "cell_type": "code",
   "execution_count": 81,
   "metadata": {},
   "outputs": [
    {
     "data": {
      "text/plain": [
       " message: Optimization terminated successfully\n",
       " success: True\n",
       "  status: 0\n",
       "     fun: -1673.8123376556182\n",
       "       x: [ 1.322e-05  1.518e-05  2.635e-04 -7.272e-01  1.025e-08]\n",
       "     nit: 11\n",
       "     jac: [-1.182e+01  2.833e+05  9.400e+05 -4.470e+02  9.316e+02]\n",
       "    nfev: 56\n",
       "    njev: 7"
      ]
     },
     "execution_count": 81,
     "metadata": {},
     "output_type": "execute_result"
    }
   ],
   "source": [
    "result"
   ]
  },
  {
   "cell_type": "code",
   "execution_count": 82,
   "metadata": {},
   "outputs": [
    {
     "data": {
      "text/plain": [
       "array([ 1.32178722e-05,  1.51780572e-05,  2.63519816e-04, -7.27186658e-01,\n",
       "        1.02464788e-08])"
      ]
     },
     "execution_count": 82,
     "metadata": {},
     "output_type": "execute_result"
    }
   ],
   "source": [
    "result.x"
   ]
  },
  {
   "cell_type": "code",
   "execution_count": 83,
   "metadata": {},
   "outputs": [],
   "source": [
    "theta_hat = r'$\\hat{\\theta} = '+str(result.x[0])+'$'\n",
    "kappa_hat = r'$\\hat{\\kappa} = '+str(result.x[1])+'$'\n",
    "sigma_hat = r'$\\hat{\\sigma} = '+str(result.x[2])+'$'\n",
    "rho_hat = r'$\\hat{\\rho} = '+str(result.x[3])+'$'\n",
    "mu_hat = r'$\\hat{\\mu} = '+str(result.x[4])+'$'"
   ]
  },
  {
   "cell_type": "code",
   "execution_count": 84,
   "metadata": {},
   "outputs": [
    {
     "data": {
      "text/latex": [
       "$\\hat{\\theta} = 1.3217872187192697e-05$"
      ],
      "text/plain": [
       "<IPython.core.display.Latex object>"
      ]
     },
     "metadata": {},
     "output_type": "display_data"
    },
    {
     "data": {
      "text/latex": [
       "$\\hat{\\kappa} = 1.5178057185704132e-05$"
      ],
      "text/plain": [
       "<IPython.core.display.Latex object>"
      ]
     },
     "metadata": {},
     "output_type": "display_data"
    },
    {
     "data": {
      "text/latex": [
       "$\\hat{\\sigma} = 0.0002635198156909611$"
      ],
      "text/plain": [
       "<IPython.core.display.Latex object>"
      ]
     },
     "metadata": {},
     "output_type": "display_data"
    },
    {
     "data": {
      "text/latex": [
       "$\\hat{\\rho} = -0.7271866584296326$"
      ],
      "text/plain": [
       "<IPython.core.display.Latex object>"
      ]
     },
     "metadata": {},
     "output_type": "display_data"
    },
    {
     "data": {
      "text/latex": [
       "$\\hat{\\mu} = 1.0246478822761757e-08$"
      ],
      "text/plain": [
       "<IPython.core.display.Latex object>"
      ]
     },
     "metadata": {},
     "output_type": "display_data"
    }
   ],
   "source": [
    "display(Latex(theta_hat))\n",
    "display(Latex(kappa_hat))\n",
    "display(Latex(sigma_hat))\n",
    "display(Latex(rho_hat))\n",
    "display(Latex(mu_hat))"
   ]
  },
  {
   "cell_type": "code",
   "execution_count": null,
   "metadata": {},
   "outputs": [],
   "source": []
  }
 ],
 "metadata": {
  "kernelspec": {
   "display_name": ".venv",
   "language": "python",
   "name": "python3"
  },
  "language_info": {
   "codemirror_mode": {
    "name": "ipython",
    "version": 3
   },
   "file_extension": ".py",
   "mimetype": "text/x-python",
   "name": "python",
   "nbconvert_exporter": "python",
   "pygments_lexer": "ipython3",
   "version": "3.11.5"
  }
 },
 "nbformat": 4,
 "nbformat_minor": 2
}
