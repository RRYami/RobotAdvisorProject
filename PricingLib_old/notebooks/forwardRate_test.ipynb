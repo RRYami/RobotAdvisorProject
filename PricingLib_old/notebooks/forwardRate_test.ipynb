{
 "cells": [
  {
   "cell_type": "code",
   "execution_count": 63,
   "metadata": {},
   "outputs": [],
   "source": [
    "import warnings\n",
    "import sqlalchemy as db\n",
    "import pandas as pd\n",
    "import scipy.interpolate as interpolate\n",
    "import numpy as np\n",
    "\n",
    "import plotly.express as px\n",
    "import plotly.offline\n",
    "import plotly.graph_objects as go\n",
    "\n",
    "from nelson_siegel_svensson import NelsonSiegelSvenssonCurve\n",
    "from nelson_siegel_svensson.calibrate import calibrate_ns_ols\n",
    "\n",
    "warnings.filterwarnings(\"ignore\")"
   ]
  },
  {
   "cell_type": "code",
   "execution_count": 2,
   "metadata": {},
   "outputs": [],
   "source": [
    "engine = db.create_engine(\n",
    "    \"mssql+pyodbc:///?odbc_connect=Driver={SQL Server};Server=192.168.11.102;Database=IDPM;Trusted_Connection=True;\"\n",
    ")\n"
   ]
  },
  {
   "cell_type": "code",
   "execution_count": 68,
   "metadata": {},
   "outputs": [],
   "source": [
    "yield_curve_id = 575  # 25 is the yield curve id for the EUR curve and 52 is the yield curve id for the USD curve\n",
    "market_date = 20200101"
   ]
  },
  {
   "cell_type": "code",
   "execution_count": 69,
   "metadata": {},
   "outputs": [],
   "source": [
    "query = f\"\"\"select * from YieldCurvePoint yp \n",
    "join YieldCurveData yd\n",
    "\ton yd.YieldCurvePointID = yp.YieldCurvePointID\n",
    "where yp.YieldCurveID = {yield_curve_id}\n",
    "and yd.MarketDate = '{market_date}'\"\"\"\n",
    "\n",
    "data = pd.read_sql(\n",
    "    db.text(query),\n",
    "    engine.connect(),\n",
    ")"
   ]
  },
  {
   "cell_type": "code",
   "execution_count": 70,
   "metadata": {},
   "outputs": [
    {
     "data": {
      "text/html": [
       "<div>\n",
       "<style scoped>\n",
       "    .dataframe tbody tr th:only-of-type {\n",
       "        vertical-align: middle;\n",
       "    }\n",
       "\n",
       "    .dataframe tbody tr th {\n",
       "        vertical-align: top;\n",
       "    }\n",
       "\n",
       "    .dataframe thead th {\n",
       "        text-align: right;\n",
       "    }\n",
       "</style>\n",
       "<table border=\"1\" class=\"dataframe\">\n",
       "  <thead>\n",
       "    <tr style=\"text-align: right;\">\n",
       "      <th></th>\n",
       "      <th>YieldCurvePointID</th>\n",
       "      <th>YieldCurveID</th>\n",
       "      <th>RIC</th>\n",
       "      <th>YieldCurveTenorID</th>\n",
       "      <th>YieldCurvePointID</th>\n",
       "      <th>MarketDate</th>\n",
       "      <th>Yield</th>\n",
       "      <th>Discount</th>\n",
       "      <th>DaysToMaturity</th>\n",
       "    </tr>\n",
       "  </thead>\n",
       "  <tbody>\n",
       "    <tr>\n",
       "      <th>6</th>\n",
       "      <td>11070</td>\n",
       "      <td>575</td>\n",
       "      <td>BUSD5Y=</td>\n",
       "      <td>25</td>\n",
       "      <td>11070</td>\n",
       "      <td>2020-01-01 00:00:00.00</td>\n",
       "      <td>5.841477</td>\n",
       "      <td>0.752637</td>\n",
       "      <td>1827</td>\n",
       "    </tr>\n",
       "    <tr>\n",
       "      <th>7</th>\n",
       "      <td>11069</td>\n",
       "      <td>575</td>\n",
       "      <td>BUSD6Y=</td>\n",
       "      <td>29</td>\n",
       "      <td>11069</td>\n",
       "      <td>2020-01-01 00:00:00.00</td>\n",
       "      <td>6.111084</td>\n",
       "      <td>0.700316</td>\n",
       "      <td>2192</td>\n",
       "    </tr>\n",
       "    <tr>\n",
       "      <th>8</th>\n",
       "      <td>11068</td>\n",
       "      <td>575</td>\n",
       "      <td>BUSD7Y=</td>\n",
       "      <td>33</td>\n",
       "      <td>11068</td>\n",
       "      <td>2020-01-01 00:00:00.00</td>\n",
       "      <td>6.415608</td>\n",
       "      <td>0.646867</td>\n",
       "      <td>2557</td>\n",
       "    </tr>\n",
       "    <tr>\n",
       "      <th>9</th>\n",
       "      <td>11082</td>\n",
       "      <td>575</td>\n",
       "      <td>BUSD8Y=</td>\n",
       "      <td>37</td>\n",
       "      <td>11082</td>\n",
       "      <td>2020-01-01 00:00:00.00</td>\n",
       "      <td>6.699590</td>\n",
       "      <td>0.594825</td>\n",
       "      <td>2924</td>\n",
       "    </tr>\n",
       "    <tr>\n",
       "      <th>10</th>\n",
       "      <td>11081</td>\n",
       "      <td>575</td>\n",
       "      <td>BUSD9Y=</td>\n",
       "      <td>41</td>\n",
       "      <td>11081</td>\n",
       "      <td>2020-01-01 00:00:00.00</td>\n",
       "      <td>6.944405</td>\n",
       "      <td>0.546182</td>\n",
       "      <td>3288</td>\n",
       "    </tr>\n",
       "  </tbody>\n",
       "</table>\n",
       "</div>"
      ],
      "text/plain": [
       "    YieldCurvePointID  YieldCurveID      RIC  YieldCurveTenorID  \\\n",
       "6               11070           575  BUSD5Y=                 25   \n",
       "7               11069           575  BUSD6Y=                 29   \n",
       "8               11068           575  BUSD7Y=                 33   \n",
       "9               11082           575  BUSD8Y=                 37   \n",
       "10              11081           575  BUSD9Y=                 41   \n",
       "\n",
       "    YieldCurvePointID              MarketDate     Yield  Discount  \\\n",
       "6               11070  2020-01-01 00:00:00.00  5.841477  0.752637   \n",
       "7               11069  2020-01-01 00:00:00.00  6.111084  0.700316   \n",
       "8               11068  2020-01-01 00:00:00.00  6.415608  0.646867   \n",
       "9               11082  2020-01-01 00:00:00.00  6.699590  0.594825   \n",
       "10              11081  2020-01-01 00:00:00.00  6.944405  0.546182   \n",
       "\n",
       "    DaysToMaturity  \n",
       "6             1827  \n",
       "7             2192  \n",
       "8             2557  \n",
       "9             2924  \n",
       "10            3288  "
      ]
     },
     "execution_count": 70,
     "metadata": {},
     "output_type": "execute_result"
    }
   ],
   "source": [
    "data.tail()"
   ]
  },
  {
   "cell_type": "code",
   "execution_count": 71,
   "metadata": {},
   "outputs": [
    {
     "data": {
      "text/plain": [
       "4.27497"
      ]
     },
     "execution_count": 71,
     "metadata": {},
     "output_type": "execute_result"
    }
   ],
   "source": [
    "data['Yield'][0]"
   ]
  },
  {
   "cell_type": "code",
   "execution_count": 72,
   "metadata": {},
   "outputs": [
    {
     "data": {
      "text/html": [
       "<div>\n",
       "<style scoped>\n",
       "    .dataframe tbody tr th:only-of-type {\n",
       "        vertical-align: middle;\n",
       "    }\n",
       "\n",
       "    .dataframe tbody tr th {\n",
       "        vertical-align: top;\n",
       "    }\n",
       "\n",
       "    .dataframe thead th {\n",
       "        text-align: right;\n",
       "    }\n",
       "</style>\n",
       "<table border=\"1\" class=\"dataframe\">\n",
       "  <thead>\n",
       "    <tr style=\"text-align: right;\">\n",
       "      <th></th>\n",
       "      <th>YieldCurvePointID</th>\n",
       "      <th>YieldCurveID</th>\n",
       "      <th>RIC</th>\n",
       "      <th>YieldCurveTenorID</th>\n",
       "      <th>YieldCurvePointID</th>\n",
       "      <th>MarketDate</th>\n",
       "      <th>Yield</th>\n",
       "      <th>Discount</th>\n",
       "      <th>DaysToMaturity</th>\n",
       "      <th>YearToMaturity</th>\n",
       "    </tr>\n",
       "  </thead>\n",
       "  <tbody>\n",
       "    <tr>\n",
       "      <th>0</th>\n",
       "      <td>11075</td>\n",
       "      <td>575</td>\n",
       "      <td>BUSD3M=</td>\n",
       "      <td>6</td>\n",
       "      <td>11075</td>\n",
       "      <td>2020-01-01 00:00:00.00</td>\n",
       "      <td>4.274970</td>\n",
       "      <td>0.989646</td>\n",
       "      <td>91</td>\n",
       "      <td>0.248634</td>\n",
       "    </tr>\n",
       "    <tr>\n",
       "      <th>1</th>\n",
       "      <td>11074</td>\n",
       "      <td>575</td>\n",
       "      <td>BUSD6M=</td>\n",
       "      <td>7</td>\n",
       "      <td>11074</td>\n",
       "      <td>2020-01-01 00:00:00.00</td>\n",
       "      <td>5.454004</td>\n",
       "      <td>0.973938</td>\n",
       "      <td>182</td>\n",
       "      <td>0.497268</td>\n",
       "    </tr>\n",
       "    <tr>\n",
       "      <th>2</th>\n",
       "      <td>11073</td>\n",
       "      <td>575</td>\n",
       "      <td>BUSD1Y=</td>\n",
       "      <td>9</td>\n",
       "      <td>11073</td>\n",
       "      <td>2020-01-01 00:00:00.00</td>\n",
       "      <td>8.284712</td>\n",
       "      <td>0.923491</td>\n",
       "      <td>366</td>\n",
       "      <td>1.000000</td>\n",
       "    </tr>\n",
       "    <tr>\n",
       "      <th>3</th>\n",
       "      <td>11083</td>\n",
       "      <td>575</td>\n",
       "      <td>BUSD2Y=</td>\n",
       "      <td>13</td>\n",
       "      <td>11083</td>\n",
       "      <td>2020-01-01 00:00:00.00</td>\n",
       "      <td>7.274677</td>\n",
       "      <td>0.868470</td>\n",
       "      <td>733</td>\n",
       "      <td>2.002732</td>\n",
       "    </tr>\n",
       "    <tr>\n",
       "      <th>4</th>\n",
       "      <td>11072</td>\n",
       "      <td>575</td>\n",
       "      <td>BUSD3Y=</td>\n",
       "      <td>17</td>\n",
       "      <td>11072</td>\n",
       "      <td>2020-01-01 00:00:00.00</td>\n",
       "      <td>5.982933</td>\n",
       "      <td>0.839758</td>\n",
       "      <td>1097</td>\n",
       "      <td>2.997268</td>\n",
       "    </tr>\n",
       "  </tbody>\n",
       "</table>\n",
       "</div>"
      ],
      "text/plain": [
       "   YieldCurvePointID  YieldCurveID      RIC  YieldCurveTenorID  \\\n",
       "0              11075           575  BUSD3M=                  6   \n",
       "1              11074           575  BUSD6M=                  7   \n",
       "2              11073           575  BUSD1Y=                  9   \n",
       "3              11083           575  BUSD2Y=                 13   \n",
       "4              11072           575  BUSD3Y=                 17   \n",
       "\n",
       "   YieldCurvePointID              MarketDate     Yield  Discount  \\\n",
       "0              11075  2020-01-01 00:00:00.00  4.274970  0.989646   \n",
       "1              11074  2020-01-01 00:00:00.00  5.454004  0.973938   \n",
       "2              11073  2020-01-01 00:00:00.00  8.284712  0.923491   \n",
       "3              11083  2020-01-01 00:00:00.00  7.274677  0.868470   \n",
       "4              11072  2020-01-01 00:00:00.00  5.982933  0.839758   \n",
       "\n",
       "   DaysToMaturity  YearToMaturity  \n",
       "0              91        0.248634  \n",
       "1             182        0.497268  \n",
       "2             366        1.000000  \n",
       "3             733        2.002732  \n",
       "4            1097        2.997268  "
      ]
     },
     "execution_count": 72,
     "metadata": {},
     "output_type": "execute_result"
    }
   ],
   "source": [
    "data['YearToMaturity'] = data['DaysToMaturity'] / 366\n",
    "data.head()"
   ]
  },
  {
   "cell_type": "markdown",
   "metadata": {},
   "source": [
    "## Forward rate calculation"
   ]
  },
  {
   "cell_type": "code",
   "execution_count": 73,
   "metadata": {},
   "outputs": [],
   "source": [
    "# create forward rate\n",
    "data['ForwardRate'] = data['Yield'][0]\n",
    "for i in range(1, len(data['Yield'])):\n",
    "    data['ForwardRate'][i] = (data['Yield'][i] * data['YearToMaturity'][i] -\n",
    "                              data['Yield'][i-1] * data['YearToMaturity'][i-1]) \\\n",
    "                            / (data['YearToMaturity'][i] - data['YearToMaturity'][i-1])"
   ]
  },
  {
   "cell_type": "code",
   "execution_count": 74,
   "metadata": {},
   "outputs": [
    {
     "data": {
      "text/html": [
       "<div>\n",
       "<style scoped>\n",
       "    .dataframe tbody tr th:only-of-type {\n",
       "        vertical-align: middle;\n",
       "    }\n",
       "\n",
       "    .dataframe tbody tr th {\n",
       "        vertical-align: top;\n",
       "    }\n",
       "\n",
       "    .dataframe thead th {\n",
       "        text-align: right;\n",
       "    }\n",
       "</style>\n",
       "<table border=\"1\" class=\"dataframe\">\n",
       "  <thead>\n",
       "    <tr style=\"text-align: right;\">\n",
       "      <th></th>\n",
       "      <th>YieldCurvePointID</th>\n",
       "      <th>YieldCurveID</th>\n",
       "      <th>RIC</th>\n",
       "      <th>YieldCurveTenorID</th>\n",
       "      <th>YieldCurvePointID</th>\n",
       "      <th>MarketDate</th>\n",
       "      <th>Yield</th>\n",
       "      <th>Discount</th>\n",
       "      <th>DaysToMaturity</th>\n",
       "      <th>YearToMaturity</th>\n",
       "      <th>ForwardRate</th>\n",
       "    </tr>\n",
       "  </thead>\n",
       "  <tbody>\n",
       "    <tr>\n",
       "      <th>0</th>\n",
       "      <td>11075</td>\n",
       "      <td>575</td>\n",
       "      <td>BUSD3M=</td>\n",
       "      <td>6</td>\n",
       "      <td>11075</td>\n",
       "      <td>2020-01-01 00:00:00.00</td>\n",
       "      <td>4.274970</td>\n",
       "      <td>0.989646</td>\n",
       "      <td>91</td>\n",
       "      <td>0.248634</td>\n",
       "      <td>4.274970</td>\n",
       "    </tr>\n",
       "    <tr>\n",
       "      <th>1</th>\n",
       "      <td>11074</td>\n",
       "      <td>575</td>\n",
       "      <td>BUSD6M=</td>\n",
       "      <td>7</td>\n",
       "      <td>11074</td>\n",
       "      <td>2020-01-01 00:00:00.00</td>\n",
       "      <td>5.454004</td>\n",
       "      <td>0.973938</td>\n",
       "      <td>182</td>\n",
       "      <td>0.497268</td>\n",
       "      <td>6.633038</td>\n",
       "    </tr>\n",
       "    <tr>\n",
       "      <th>2</th>\n",
       "      <td>11073</td>\n",
       "      <td>575</td>\n",
       "      <td>BUSD1Y=</td>\n",
       "      <td>9</td>\n",
       "      <td>11073</td>\n",
       "      <td>2020-01-01 00:00:00.00</td>\n",
       "      <td>8.284712</td>\n",
       "      <td>0.923491</td>\n",
       "      <td>366</td>\n",
       "      <td>1.000000</td>\n",
       "      <td>11.084651</td>\n",
       "    </tr>\n",
       "    <tr>\n",
       "      <th>3</th>\n",
       "      <td>11083</td>\n",
       "      <td>575</td>\n",
       "      <td>BUSD2Y=</td>\n",
       "      <td>13</td>\n",
       "      <td>11083</td>\n",
       "      <td>2020-01-01 00:00:00.00</td>\n",
       "      <td>7.274677</td>\n",
       "      <td>0.868470</td>\n",
       "      <td>733</td>\n",
       "      <td>2.002732</td>\n",
       "      <td>6.267394</td>\n",
       "    </tr>\n",
       "    <tr>\n",
       "      <th>4</th>\n",
       "      <td>11072</td>\n",
       "      <td>575</td>\n",
       "      <td>BUSD3Y=</td>\n",
       "      <td>17</td>\n",
       "      <td>11072</td>\n",
       "      <td>2020-01-01 00:00:00.00</td>\n",
       "      <td>5.982933</td>\n",
       "      <td>0.839758</td>\n",
       "      <td>1097</td>\n",
       "      <td>2.997268</td>\n",
       "      <td>3.381701</td>\n",
       "    </tr>\n",
       "    <tr>\n",
       "      <th>5</th>\n",
       "      <td>11071</td>\n",
       "      <td>575</td>\n",
       "      <td>BUSD4Y=</td>\n",
       "      <td>21</td>\n",
       "      <td>11071</td>\n",
       "      <td>2020-01-01 00:00:00.00</td>\n",
       "      <td>5.722129</td>\n",
       "      <td>0.800332</td>\n",
       "      <td>1461</td>\n",
       "      <td>3.991803</td>\n",
       "      <td>4.936135</td>\n",
       "    </tr>\n",
       "    <tr>\n",
       "      <th>6</th>\n",
       "      <td>11070</td>\n",
       "      <td>575</td>\n",
       "      <td>BUSD5Y=</td>\n",
       "      <td>25</td>\n",
       "      <td>11070</td>\n",
       "      <td>2020-01-01 00:00:00.00</td>\n",
       "      <td>5.841477</td>\n",
       "      <td>0.752637</td>\n",
       "      <td>1827</td>\n",
       "      <td>4.991803</td>\n",
       "      <td>6.317891</td>\n",
       "    </tr>\n",
       "    <tr>\n",
       "      <th>7</th>\n",
       "      <td>11069</td>\n",
       "      <td>575</td>\n",
       "      <td>BUSD6Y=</td>\n",
       "      <td>29</td>\n",
       "      <td>11069</td>\n",
       "      <td>2020-01-01 00:00:00.00</td>\n",
       "      <td>6.111084</td>\n",
       "      <td>0.700316</td>\n",
       "      <td>2192</td>\n",
       "      <td>5.989071</td>\n",
       "      <td>7.460596</td>\n",
       "    </tr>\n",
       "    <tr>\n",
       "      <th>8</th>\n",
       "      <td>11068</td>\n",
       "      <td>575</td>\n",
       "      <td>BUSD7Y=</td>\n",
       "      <td>33</td>\n",
       "      <td>11068</td>\n",
       "      <td>2020-01-01 00:00:00.00</td>\n",
       "      <td>6.415608</td>\n",
       "      <td>0.646867</td>\n",
       "      <td>2557</td>\n",
       "      <td>6.986339</td>\n",
       "      <td>8.244421</td>\n",
       "    </tr>\n",
       "    <tr>\n",
       "      <th>9</th>\n",
       "      <td>11082</td>\n",
       "      <td>575</td>\n",
       "      <td>BUSD8Y=</td>\n",
       "      <td>37</td>\n",
       "      <td>11082</td>\n",
       "      <td>2020-01-01 00:00:00.00</td>\n",
       "      <td>6.699590</td>\n",
       "      <td>0.594825</td>\n",
       "      <td>2924</td>\n",
       "      <td>7.989071</td>\n",
       "      <td>8.678178</td>\n",
       "    </tr>\n",
       "    <tr>\n",
       "      <th>10</th>\n",
       "      <td>11081</td>\n",
       "      <td>575</td>\n",
       "      <td>BUSD9Y=</td>\n",
       "      <td>41</td>\n",
       "      <td>11081</td>\n",
       "      <td>2020-01-01 00:00:00.00</td>\n",
       "      <td>6.944405</td>\n",
       "      <td>0.546182</td>\n",
       "      <td>3288</td>\n",
       "      <td>8.983607</td>\n",
       "      <td>8.910996</td>\n",
       "    </tr>\n",
       "  </tbody>\n",
       "</table>\n",
       "</div>"
      ],
      "text/plain": [
       "    YieldCurvePointID  YieldCurveID      RIC  YieldCurveTenorID  \\\n",
       "0               11075           575  BUSD3M=                  6   \n",
       "1               11074           575  BUSD6M=                  7   \n",
       "2               11073           575  BUSD1Y=                  9   \n",
       "3               11083           575  BUSD2Y=                 13   \n",
       "4               11072           575  BUSD3Y=                 17   \n",
       "5               11071           575  BUSD4Y=                 21   \n",
       "6               11070           575  BUSD5Y=                 25   \n",
       "7               11069           575  BUSD6Y=                 29   \n",
       "8               11068           575  BUSD7Y=                 33   \n",
       "9               11082           575  BUSD8Y=                 37   \n",
       "10              11081           575  BUSD9Y=                 41   \n",
       "\n",
       "    YieldCurvePointID              MarketDate     Yield  Discount  \\\n",
       "0               11075  2020-01-01 00:00:00.00  4.274970  0.989646   \n",
       "1               11074  2020-01-01 00:00:00.00  5.454004  0.973938   \n",
       "2               11073  2020-01-01 00:00:00.00  8.284712  0.923491   \n",
       "3               11083  2020-01-01 00:00:00.00  7.274677  0.868470   \n",
       "4               11072  2020-01-01 00:00:00.00  5.982933  0.839758   \n",
       "5               11071  2020-01-01 00:00:00.00  5.722129  0.800332   \n",
       "6               11070  2020-01-01 00:00:00.00  5.841477  0.752637   \n",
       "7               11069  2020-01-01 00:00:00.00  6.111084  0.700316   \n",
       "8               11068  2020-01-01 00:00:00.00  6.415608  0.646867   \n",
       "9               11082  2020-01-01 00:00:00.00  6.699590  0.594825   \n",
       "10              11081  2020-01-01 00:00:00.00  6.944405  0.546182   \n",
       "\n",
       "    DaysToMaturity  YearToMaturity  ForwardRate  \n",
       "0               91        0.248634     4.274970  \n",
       "1              182        0.497268     6.633038  \n",
       "2              366        1.000000    11.084651  \n",
       "3              733        2.002732     6.267394  \n",
       "4             1097        2.997268     3.381701  \n",
       "5             1461        3.991803     4.936135  \n",
       "6             1827        4.991803     6.317891  \n",
       "7             2192        5.989071     7.460596  \n",
       "8             2557        6.986339     8.244421  \n",
       "9             2924        7.989071     8.678178  \n",
       "10            3288        8.983607     8.910996  "
      ]
     },
     "execution_count": 74,
     "metadata": {},
     "output_type": "execute_result"
    }
   ],
   "source": [
    "data"
   ]
  },
  {
   "cell_type": "markdown",
   "metadata": {},
   "source": [
    "#### with Numpy"
   ]
  },
  {
   "cell_type": "code",
   "execution_count": 75,
   "metadata": {},
   "outputs": [],
   "source": [
    "arr_maturity = np.array(data['YearToMaturity'].values)\n",
    "arr_yield = np.array(data['Yield'].values)\n",
    "arr_forward = np.zeros(len(arr_yield))\n",
    "arr_forward[0] = arr_yield[0]"
   ]
  },
  {
   "cell_type": "code",
   "execution_count": 76,
   "metadata": {},
   "outputs": [
    {
     "data": {
      "text/plain": [
       "array([0.24863388, 0.49726776, 1.        , 2.00273224, 2.99726776,\n",
       "       3.99180328, 4.99180328, 5.98907104, 6.9863388 , 7.98907104,\n",
       "       8.98360656])"
      ]
     },
     "execution_count": 76,
     "metadata": {},
     "output_type": "execute_result"
    }
   ],
   "source": [
    "arr_maturity"
   ]
  },
  {
   "cell_type": "code",
   "execution_count": 77,
   "metadata": {},
   "outputs": [],
   "source": [
    "for i in range(1, len(arr_yield)):\n",
    "    arr_forward[i] = (arr_yield[i] * arr_maturity[i] - arr_yield[i-1] * arr_maturity[i-1]) / (arr_maturity[i] - arr_maturity[i-1])"
   ]
  },
  {
   "cell_type": "code",
   "execution_count": 78,
   "metadata": {},
   "outputs": [
    {
     "data": {
      "text/plain": [
       "array([ 4.27497   ,  6.633038  , 11.08465143,  6.26739414,  3.38170126,\n",
       "        4.93613453,  6.31789074,  7.4605963 ,  8.24442062,  8.67817849,\n",
       "        8.91099582])"
      ]
     },
     "execution_count": 78,
     "metadata": {},
     "output_type": "execute_result"
    }
   ],
   "source": [
    "arr_forward"
   ]
  },
  {
   "cell_type": "code",
   "execution_count": 79,
   "metadata": {},
   "outputs": [
    {
     "data": {
      "text/plain": [
       "array([0.24863388, 0.49726776, 1.        , 2.00273224, 2.99726776,\n",
       "       3.99180328, 4.99180328, 5.98907104, 6.9863388 , 7.98907104,\n",
       "       8.98360656])"
      ]
     },
     "execution_count": 79,
     "metadata": {},
     "output_type": "execute_result"
    }
   ],
   "source": [
    "# interpolate forward rate\n",
    "data_array = np.array(data['ForwardRate']/100)\n",
    "tenor_array = np.array(data['YearToMaturity'])\n",
    "tenor_array\n"
   ]
  },
  {
   "cell_type": "markdown",
   "metadata": {},
   "source": [
    "# Cubic Spline"
   ]
  },
  {
   "cell_type": "code",
   "execution_count": 80,
   "metadata": {},
   "outputs": [],
   "source": [
    "interp_coeff = interpolate.CubicSpline(tenor_array,data_array)"
   ]
  },
  {
   "cell_type": "code",
   "execution_count": 81,
   "metadata": {},
   "outputs": [],
   "source": [
    "new_tenor = np.linspace(0, np.ceil(data['YearToMaturity'].iloc[-1]), len(data['YearToMaturity']))"
   ]
  },
  {
   "cell_type": "code",
   "execution_count": 82,
   "metadata": {},
   "outputs": [],
   "source": [
    "cub_inter = interp_coeff(new_tenor)"
   ]
  },
  {
   "cell_type": "markdown",
   "metadata": {},
   "source": [
    "# NelsonSiegel"
   ]
  },
  {
   "cell_type": "code",
   "execution_count": 83,
   "metadata": {},
   "outputs": [
    {
     "data": {
      "text/plain": [
       "(array([0.0427497 , 0.06633038, 0.11084651, 0.06267394, 0.03381701,\n",
       "        0.04936135, 0.06317891, 0.07460596, 0.08244421, 0.08678178,\n",
       "        0.08910996]),\n",
       " array([0. , 0.9, 1.8, 2.7, 3.6, 4.5, 5.4, 6.3, 7.2, 8.1, 9. ]))"
      ]
     },
     "execution_count": 83,
     "metadata": {},
     "output_type": "execute_result"
    }
   ],
   "source": [
    "data_array,new_tenor"
   ]
  },
  {
   "cell_type": "code",
   "execution_count": 84,
   "metadata": {},
   "outputs": [
    {
     "data": {
      "text/plain": [
       "NelsonSiegelCurve(beta0=0.6266679440318677, beta1=-0.5616701312323327, beta2=-0.6538565057098971, tau=10.339472502878388)"
      ]
     },
     "execution_count": 84,
     "metadata": {},
     "output_type": "execute_result"
    }
   ],
   "source": [
    "# NSS model calibrate\n",
    "curve_fit, status = calibrate_ns_ols(new_tenor, data_array)\n",
    "curve_fit"
   ]
  },
  {
   "cell_type": "code",
   "execution_count": 85,
   "metadata": {},
   "outputs": [],
   "source": [
    "nelson_new_fit= curve_fit(new_tenor)"
   ]
  },
  {
   "cell_type": "code",
   "execution_count": 86,
   "metadata": {},
   "outputs": [
    {
     "data": {
      "application/vnd.plotly.v1+json": {
       "config": {
        "plotlyServerURL": "https://plot.ly"
       },
       "data": [
        {
         "hovertemplate": "<extra></extra>",
         "legendgroup": "",
         "line": {
          "color": "#636efa",
          "dash": "solid"
         },
         "marker": {
          "symbol": "circle"
         },
         "mode": "lines",
         "name": "",
         "orientation": "v",
         "showlegend": false,
         "type": "scatter",
         "xaxis": "x",
         "yaxis": "y"
        },
        {
         "mode": "lines",
         "type": "scatter",
         "x": [
          0,
          0.9,
          1.8,
          2.7,
          3.6,
          4.5,
          5.4,
          6.3,
          7.2,
          8.1,
          9
         ],
         "y": [
          0.06499781279953498,
          0.06189023118557678,
          0.06044925738345415,
          0.06047677585469384,
          0.06179416414464231,
          0.0642405016972929,
          0.06767093791603629,
          0.07195520557284976,
          0.07697626686741232,
          0.08262908053393989,
          0.0888194793959459
         ]
        }
       ],
       "layout": {
        "legend": {
         "tracegroupgap": 0
        },
        "margin": {
         "t": 60
        },
        "template": {
         "data": {
          "bar": [
           {
            "error_x": {
             "color": "#2a3f5f"
            },
            "error_y": {
             "color": "#2a3f5f"
            },
            "marker": {
             "line": {
              "color": "#E5ECF6",
              "width": 0.5
             },
             "pattern": {
              "fillmode": "overlay",
              "size": 10,
              "solidity": 0.2
             }
            },
            "type": "bar"
           }
          ],
          "barpolar": [
           {
            "marker": {
             "line": {
              "color": "#E5ECF6",
              "width": 0.5
             },
             "pattern": {
              "fillmode": "overlay",
              "size": 10,
              "solidity": 0.2
             }
            },
            "type": "barpolar"
           }
          ],
          "carpet": [
           {
            "aaxis": {
             "endlinecolor": "#2a3f5f",
             "gridcolor": "white",
             "linecolor": "white",
             "minorgridcolor": "white",
             "startlinecolor": "#2a3f5f"
            },
            "baxis": {
             "endlinecolor": "#2a3f5f",
             "gridcolor": "white",
             "linecolor": "white",
             "minorgridcolor": "white",
             "startlinecolor": "#2a3f5f"
            },
            "type": "carpet"
           }
          ],
          "choropleth": [
           {
            "colorbar": {
             "outlinewidth": 0,
             "ticks": ""
            },
            "type": "choropleth"
           }
          ],
          "contour": [
           {
            "colorbar": {
             "outlinewidth": 0,
             "ticks": ""
            },
            "colorscale": [
             [
              0,
              "#0d0887"
             ],
             [
              0.1111111111111111,
              "#46039f"
             ],
             [
              0.2222222222222222,
              "#7201a8"
             ],
             [
              0.3333333333333333,
              "#9c179e"
             ],
             [
              0.4444444444444444,
              "#bd3786"
             ],
             [
              0.5555555555555556,
              "#d8576b"
             ],
             [
              0.6666666666666666,
              "#ed7953"
             ],
             [
              0.7777777777777778,
              "#fb9f3a"
             ],
             [
              0.8888888888888888,
              "#fdca26"
             ],
             [
              1,
              "#f0f921"
             ]
            ],
            "type": "contour"
           }
          ],
          "contourcarpet": [
           {
            "colorbar": {
             "outlinewidth": 0,
             "ticks": ""
            },
            "type": "contourcarpet"
           }
          ],
          "heatmap": [
           {
            "colorbar": {
             "outlinewidth": 0,
             "ticks": ""
            },
            "colorscale": [
             [
              0,
              "#0d0887"
             ],
             [
              0.1111111111111111,
              "#46039f"
             ],
             [
              0.2222222222222222,
              "#7201a8"
             ],
             [
              0.3333333333333333,
              "#9c179e"
             ],
             [
              0.4444444444444444,
              "#bd3786"
             ],
             [
              0.5555555555555556,
              "#d8576b"
             ],
             [
              0.6666666666666666,
              "#ed7953"
             ],
             [
              0.7777777777777778,
              "#fb9f3a"
             ],
             [
              0.8888888888888888,
              "#fdca26"
             ],
             [
              1,
              "#f0f921"
             ]
            ],
            "type": "heatmap"
           }
          ],
          "heatmapgl": [
           {
            "colorbar": {
             "outlinewidth": 0,
             "ticks": ""
            },
            "colorscale": [
             [
              0,
              "#0d0887"
             ],
             [
              0.1111111111111111,
              "#46039f"
             ],
             [
              0.2222222222222222,
              "#7201a8"
             ],
             [
              0.3333333333333333,
              "#9c179e"
             ],
             [
              0.4444444444444444,
              "#bd3786"
             ],
             [
              0.5555555555555556,
              "#d8576b"
             ],
             [
              0.6666666666666666,
              "#ed7953"
             ],
             [
              0.7777777777777778,
              "#fb9f3a"
             ],
             [
              0.8888888888888888,
              "#fdca26"
             ],
             [
              1,
              "#f0f921"
             ]
            ],
            "type": "heatmapgl"
           }
          ],
          "histogram": [
           {
            "marker": {
             "pattern": {
              "fillmode": "overlay",
              "size": 10,
              "solidity": 0.2
             }
            },
            "type": "histogram"
           }
          ],
          "histogram2d": [
           {
            "colorbar": {
             "outlinewidth": 0,
             "ticks": ""
            },
            "colorscale": [
             [
              0,
              "#0d0887"
             ],
             [
              0.1111111111111111,
              "#46039f"
             ],
             [
              0.2222222222222222,
              "#7201a8"
             ],
             [
              0.3333333333333333,
              "#9c179e"
             ],
             [
              0.4444444444444444,
              "#bd3786"
             ],
             [
              0.5555555555555556,
              "#d8576b"
             ],
             [
              0.6666666666666666,
              "#ed7953"
             ],
             [
              0.7777777777777778,
              "#fb9f3a"
             ],
             [
              0.8888888888888888,
              "#fdca26"
             ],
             [
              1,
              "#f0f921"
             ]
            ],
            "type": "histogram2d"
           }
          ],
          "histogram2dcontour": [
           {
            "colorbar": {
             "outlinewidth": 0,
             "ticks": ""
            },
            "colorscale": [
             [
              0,
              "#0d0887"
             ],
             [
              0.1111111111111111,
              "#46039f"
             ],
             [
              0.2222222222222222,
              "#7201a8"
             ],
             [
              0.3333333333333333,
              "#9c179e"
             ],
             [
              0.4444444444444444,
              "#bd3786"
             ],
             [
              0.5555555555555556,
              "#d8576b"
             ],
             [
              0.6666666666666666,
              "#ed7953"
             ],
             [
              0.7777777777777778,
              "#fb9f3a"
             ],
             [
              0.8888888888888888,
              "#fdca26"
             ],
             [
              1,
              "#f0f921"
             ]
            ],
            "type": "histogram2dcontour"
           }
          ],
          "mesh3d": [
           {
            "colorbar": {
             "outlinewidth": 0,
             "ticks": ""
            },
            "type": "mesh3d"
           }
          ],
          "parcoords": [
           {
            "line": {
             "colorbar": {
              "outlinewidth": 0,
              "ticks": ""
             }
            },
            "type": "parcoords"
           }
          ],
          "pie": [
           {
            "automargin": true,
            "type": "pie"
           }
          ],
          "scatter": [
           {
            "fillpattern": {
             "fillmode": "overlay",
             "size": 10,
             "solidity": 0.2
            },
            "type": "scatter"
           }
          ],
          "scatter3d": [
           {
            "line": {
             "colorbar": {
              "outlinewidth": 0,
              "ticks": ""
             }
            },
            "marker": {
             "colorbar": {
              "outlinewidth": 0,
              "ticks": ""
             }
            },
            "type": "scatter3d"
           }
          ],
          "scattercarpet": [
           {
            "marker": {
             "colorbar": {
              "outlinewidth": 0,
              "ticks": ""
             }
            },
            "type": "scattercarpet"
           }
          ],
          "scattergeo": [
           {
            "marker": {
             "colorbar": {
              "outlinewidth": 0,
              "ticks": ""
             }
            },
            "type": "scattergeo"
           }
          ],
          "scattergl": [
           {
            "marker": {
             "colorbar": {
              "outlinewidth": 0,
              "ticks": ""
             }
            },
            "type": "scattergl"
           }
          ],
          "scattermapbox": [
           {
            "marker": {
             "colorbar": {
              "outlinewidth": 0,
              "ticks": ""
             }
            },
            "type": "scattermapbox"
           }
          ],
          "scatterpolar": [
           {
            "marker": {
             "colorbar": {
              "outlinewidth": 0,
              "ticks": ""
             }
            },
            "type": "scatterpolar"
           }
          ],
          "scatterpolargl": [
           {
            "marker": {
             "colorbar": {
              "outlinewidth": 0,
              "ticks": ""
             }
            },
            "type": "scatterpolargl"
           }
          ],
          "scatterternary": [
           {
            "marker": {
             "colorbar": {
              "outlinewidth": 0,
              "ticks": ""
             }
            },
            "type": "scatterternary"
           }
          ],
          "surface": [
           {
            "colorbar": {
             "outlinewidth": 0,
             "ticks": ""
            },
            "colorscale": [
             [
              0,
              "#0d0887"
             ],
             [
              0.1111111111111111,
              "#46039f"
             ],
             [
              0.2222222222222222,
              "#7201a8"
             ],
             [
              0.3333333333333333,
              "#9c179e"
             ],
             [
              0.4444444444444444,
              "#bd3786"
             ],
             [
              0.5555555555555556,
              "#d8576b"
             ],
             [
              0.6666666666666666,
              "#ed7953"
             ],
             [
              0.7777777777777778,
              "#fb9f3a"
             ],
             [
              0.8888888888888888,
              "#fdca26"
             ],
             [
              1,
              "#f0f921"
             ]
            ],
            "type": "surface"
           }
          ],
          "table": [
           {
            "cells": {
             "fill": {
              "color": "#EBF0F8"
             },
             "line": {
              "color": "white"
             }
            },
            "header": {
             "fill": {
              "color": "#C8D4E3"
             },
             "line": {
              "color": "white"
             }
            },
            "type": "table"
           }
          ]
         },
         "layout": {
          "annotationdefaults": {
           "arrowcolor": "#2a3f5f",
           "arrowhead": 0,
           "arrowwidth": 1
          },
          "autotypenumbers": "strict",
          "coloraxis": {
           "colorbar": {
            "outlinewidth": 0,
            "ticks": ""
           }
          },
          "colorscale": {
           "diverging": [
            [
             0,
             "#8e0152"
            ],
            [
             0.1,
             "#c51b7d"
            ],
            [
             0.2,
             "#de77ae"
            ],
            [
             0.3,
             "#f1b6da"
            ],
            [
             0.4,
             "#fde0ef"
            ],
            [
             0.5,
             "#f7f7f7"
            ],
            [
             0.6,
             "#e6f5d0"
            ],
            [
             0.7,
             "#b8e186"
            ],
            [
             0.8,
             "#7fbc41"
            ],
            [
             0.9,
             "#4d9221"
            ],
            [
             1,
             "#276419"
            ]
           ],
           "sequential": [
            [
             0,
             "#0d0887"
            ],
            [
             0.1111111111111111,
             "#46039f"
            ],
            [
             0.2222222222222222,
             "#7201a8"
            ],
            [
             0.3333333333333333,
             "#9c179e"
            ],
            [
             0.4444444444444444,
             "#bd3786"
            ],
            [
             0.5555555555555556,
             "#d8576b"
            ],
            [
             0.6666666666666666,
             "#ed7953"
            ],
            [
             0.7777777777777778,
             "#fb9f3a"
            ],
            [
             0.8888888888888888,
             "#fdca26"
            ],
            [
             1,
             "#f0f921"
            ]
           ],
           "sequentialminus": [
            [
             0,
             "#0d0887"
            ],
            [
             0.1111111111111111,
             "#46039f"
            ],
            [
             0.2222222222222222,
             "#7201a8"
            ],
            [
             0.3333333333333333,
             "#9c179e"
            ],
            [
             0.4444444444444444,
             "#bd3786"
            ],
            [
             0.5555555555555556,
             "#d8576b"
            ],
            [
             0.6666666666666666,
             "#ed7953"
            ],
            [
             0.7777777777777778,
             "#fb9f3a"
            ],
            [
             0.8888888888888888,
             "#fdca26"
            ],
            [
             1,
             "#f0f921"
            ]
           ]
          },
          "colorway": [
           "#636efa",
           "#EF553B",
           "#00cc96",
           "#ab63fa",
           "#FFA15A",
           "#19d3f3",
           "#FF6692",
           "#B6E880",
           "#FF97FF",
           "#FECB52"
          ],
          "font": {
           "color": "#2a3f5f"
          },
          "geo": {
           "bgcolor": "white",
           "lakecolor": "white",
           "landcolor": "#E5ECF6",
           "showlakes": true,
           "showland": true,
           "subunitcolor": "white"
          },
          "hoverlabel": {
           "align": "left"
          },
          "hovermode": "closest",
          "mapbox": {
           "style": "light"
          },
          "paper_bgcolor": "white",
          "plot_bgcolor": "#E5ECF6",
          "polar": {
           "angularaxis": {
            "gridcolor": "white",
            "linecolor": "white",
            "ticks": ""
           },
           "bgcolor": "#E5ECF6",
           "radialaxis": {
            "gridcolor": "white",
            "linecolor": "white",
            "ticks": ""
           }
          },
          "scene": {
           "xaxis": {
            "backgroundcolor": "#E5ECF6",
            "gridcolor": "white",
            "gridwidth": 2,
            "linecolor": "white",
            "showbackground": true,
            "ticks": "",
            "zerolinecolor": "white"
           },
           "yaxis": {
            "backgroundcolor": "#E5ECF6",
            "gridcolor": "white",
            "gridwidth": 2,
            "linecolor": "white",
            "showbackground": true,
            "ticks": "",
            "zerolinecolor": "white"
           },
           "zaxis": {
            "backgroundcolor": "#E5ECF6",
            "gridcolor": "white",
            "gridwidth": 2,
            "linecolor": "white",
            "showbackground": true,
            "ticks": "",
            "zerolinecolor": "white"
           }
          },
          "shapedefaults": {
           "line": {
            "color": "#2a3f5f"
           }
          },
          "ternary": {
           "aaxis": {
            "gridcolor": "white",
            "linecolor": "white",
            "ticks": ""
           },
           "baxis": {
            "gridcolor": "white",
            "linecolor": "white",
            "ticks": ""
           },
           "bgcolor": "#E5ECF6",
           "caxis": {
            "gridcolor": "white",
            "linecolor": "white",
            "ticks": ""
           }
          },
          "title": {
           "x": 0.05
          },
          "xaxis": {
           "automargin": true,
           "gridcolor": "white",
           "linecolor": "white",
           "ticks": "",
           "title": {
            "standoff": 15
           },
           "zerolinecolor": "white",
           "zerolinewidth": 2
          },
          "yaxis": {
           "automargin": true,
           "gridcolor": "white",
           "linecolor": "white",
           "ticks": "",
           "title": {
            "standoff": 15
           },
           "zerolinecolor": "white",
           "zerolinewidth": 2
          }
         }
        },
        "xaxis": {
         "anchor": "y",
         "domain": [
          0,
          1
         ]
        },
        "yaxis": {
         "anchor": "x",
         "domain": [
          0,
          1
         ]
        }
       }
      }
     },
     "metadata": {},
     "output_type": "display_data"
    }
   ],
   "source": [
    "fig = px.line()\n",
    "fig.add_scatter(x=new_tenor, y=nelson_new_fit, mode='lines')\n",
    "fig.show()"
   ]
  },
  {
   "cell_type": "code",
   "execution_count": 21,
   "metadata": {},
   "outputs": [],
   "source": [
    "import QuantLib as ql\n",
    "import pendulum as pl"
   ]
  },
  {
   "cell_type": "code",
   "execution_count": 22,
   "metadata": {},
   "outputs": [
    {
     "data": {
      "text/plain": [
       "'2020-01-01'"
      ]
     },
     "execution_count": 22,
     "metadata": {},
     "output_type": "execute_result"
    }
   ],
   "source": [
    "# remove seconds from the date\n",
    "market_date = pl.parse(data['MarketDate'][0]).format(\"YYYY-MM-DD\") # type: ignore\n",
    "market_date"
   ]
  },
  {
   "cell_type": "code",
   "execution_count": 23,
   "metadata": {},
   "outputs": [
    {
     "data": {
      "text/plain": [
       "Date(2,1,2020)"
      ]
     },
     "execution_count": 23,
     "metadata": {},
     "output_type": "execute_result"
    }
   ],
   "source": [
    "ql.Date(pl.parse(data['MarketDate'][0]).format(\"YYYY-MM-DD\"), '%Y-%m-%d') + 1 # type: ignore\n"
   ]
  },
  {
   "cell_type": "code",
   "execution_count": 24,
   "metadata": {},
   "outputs": [
    {
     "data": {
      "text/plain": [
       "'2020-01-01 00:00:00.00'"
      ]
     },
     "execution_count": 24,
     "metadata": {},
     "output_type": "execute_result"
    }
   ],
   "source": [
    "data['MarketDate'][0]"
   ]
  },
  {
   "cell_type": "code",
   "execution_count": 25,
   "metadata": {},
   "outputs": [
    {
     "data": {
      "text/plain": [
       "(array([Date(1,4,2020), Date(1,7,2020), Date(1,1,2021), Date(3,1,2022),\n",
       "        Date(2,1,2023), Date(1,1,2024), Date(1,1,2025), Date(1,1,2026),\n",
       "        Date(1,1,2027), Date(3,1,2028), Date(1,1,2029)], dtype=object),\n",
       " [Date(1,4,2020),\n",
       "  Date(1,7,2020),\n",
       "  Date(1,1,2021),\n",
       "  Date(3,1,2022),\n",
       "  Date(2,1,2023),\n",
       "  Date(1,1,2024),\n",
       "  Date(1,1,2025),\n",
       "  Date(1,1,2026),\n",
       "  Date(1,1,2027),\n",
       "  Date(3,1,2028),\n",
       "  Date(1,1,2029)])"
      ]
     },
     "execution_count": 25,
     "metadata": {},
     "output_type": "execute_result"
    }
   ],
   "source": [
    "# create the maturity dates based on DaysToMaturity in data\n",
    "\n",
    "maturity_dates = [pl.parse(data['MarketDate'][0]) + pl.duration(days=int(d)) for d in data['DaysToMaturity']]\n",
    "matruity_dates_ql = [ql.Date(data['MarketDate'][0], '%Y-%m-%d') + int(d) for d in data['DaysToMaturity']] # type: ignore\n",
    "maturity_array = np.array(matruity_dates_ql)\n",
    "maturity_array, matruity_dates_ql"
   ]
  },
  {
   "cell_type": "code",
   "execution_count": 26,
   "metadata": {},
   "outputs": [
    {
     "data": {
      "text/plain": [
       "((11,), (11,), (11,))"
      ]
     },
     "execution_count": 26,
     "metadata": {},
     "output_type": "execute_result"
    }
   ],
   "source": [
    "maturity_array.shape, cub_inter.shape, nelson_new_fit.shape # type: ignore"
   ]
  },
  {
   "cell_type": "markdown",
   "metadata": {},
   "source": [
    "# ForwardCurve"
   ]
  },
  {
   "cell_type": "code",
   "execution_count": 27,
   "metadata": {},
   "outputs": [],
   "source": [
    "ts = ql.ForwardCurve(maturity_array, nelson_new_fit, ql.ActualActual(ql.ActualActual.Bond))\n",
    "ts_handle = ql.YieldTermStructureHandle(ts)"
   ]
  },
  {
   "cell_type": "code",
   "execution_count": 28,
   "metadata": {},
   "outputs": [],
   "source": [
    "calc_date = ql.Date(7,4,2020)\n",
    "ql.Settings.instance().evaluationDate = calc_date\n",
    "\n",
    "day_count = ql.ActualActual(ql.ActualActual.Bond)"
   ]
  },
  {
   "cell_type": "code",
   "execution_count": 29,
   "metadata": {},
   "outputs": [],
   "source": [
    "# # create an array of shape (15,) with the value of 0.06\n",
    "# test_r = np.full((15,), 7.0)\n",
    "# ts = ql.ForwardCurve(maturity_array, test_r, ql.ActualActual(ql.ActualActual.Bond))\n",
    "# ts_handle = ql.YieldTermStructureHandle(ts)"
   ]
  },
  {
   "cell_type": "code",
   "execution_count": 30,
   "metadata": {},
   "outputs": [],
   "source": [
    "# rate = 0.06\n",
    "# ts = ql.FlatForward(calc_date, \n",
    "#                     rate, \n",
    "#                     day_count, \n",
    "#                     ql.Compounded, \n",
    "#                     ql.Semiannual)\n",
    "# ts_handle = ql.YieldTermStructureHandle(ts)"
   ]
  },
  {
   "cell_type": "code",
   "execution_count": 31,
   "metadata": {},
   "outputs": [],
   "source": [
    "callability_schedule = ql.CallabilitySchedule()\n",
    "call_price = [102.688, 101.792, 100.896, 100.0]\n",
    "call_date = [ql.Date(14,ql.December,2020), ql.Date(14,ql.December,2021), ql.Date(14,ql.December,2022), ql.Date(14,ql.December,2023)]\n",
    "\n",
    "for price, date in zip(call_price, call_date):\n",
    "    callability_schedule.append(ql.Callability(ql.BondPrice(price, ql.BondPrice.Clean), ql.Callability.Call,date))"
   ]
  },
  {
   "cell_type": "code",
   "execution_count": 32,
   "metadata": {},
   "outputs": [],
   "source": [
    "issue_date = ql.Date(5,ql.December,2014)        \n",
    "maturity_date = ql.Date(15,ql.December,2024)\n",
    "calendar = ql.UnitedStates(ql.UnitedStates.GovernmentBond)\n",
    "tenor = ql.Period(ql.Semiannual)\n",
    "accrual_convention = ql.Unadjusted\n",
    "\n",
    "schedule = ql.Schedule(issue_date, maturity_date, tenor,\n",
    "                       calendar, accrual_convention, accrual_convention,\n",
    "                       ql.DateGeneration.Forward, False)\n",
    "\n",
    "settlement_days = 2\n",
    "face_amount = 1000\n",
    "accrual_daycount = ql.ActualActual(ql.ActualActual.Bond)\n",
    "coupon = 0.05375"
   ]
  },
  {
   "cell_type": "code",
   "execution_count": 33,
   "metadata": {},
   "outputs": [],
   "source": [
    "\n",
    "bond = ql.CallableFixedRateBond(\n",
    "    settlement_days, face_amount,\n",
    "    schedule, [coupon], accrual_daycount,\n",
    "    ql.Following, face_amount, issue_date,\n",
    "    callability_schedule)"
   ]
  },
  {
   "cell_type": "code",
   "execution_count": 34,
   "metadata": {},
   "outputs": [
    {
     "name": "stdout",
     "output_type": "stream",
     "text": [
      "Bond price:  96.05823666248934\n"
     ]
    }
   ],
   "source": [
    "def value_bond(a, s, grid_points, bond):\n",
    "    model = ql.HullWhite(ts_handle, a, s)\n",
    "    engine = ql.TreeCallableFixedRateBondEngine(model, grid_points)\n",
    "    bond.setPricingEngine(engine)\n",
    "    return bond\n",
    "\n",
    "value_bond(0.07881, 0.00736, 400, bond)\n",
    "print(\"Bond price: \",bond.cleanPrice())"
   ]
  },
  {
   "cell_type": "code",
   "execution_count": 35,
   "metadata": {},
   "outputs": [
    {
     "name": "stdout",
     "output_type": "stream",
     "text": [
      "December 14th, 2020\n",
      "December 14th, 2021\n",
      "December 14th, 2022\n",
      "December 14th, 2023\n"
     ]
    }
   ],
   "source": [
    "for c in bond.callability():\n",
    "    print(f\"{c.date()}\")"
   ]
  },
  {
   "cell_type": "code",
   "execution_count": 36,
   "metadata": {},
   "outputs": [],
   "source": [
    "def db_get_schedule(security_id):\n",
    "    engine = db.create_engine(\n",
    "        \"mssql+pyodbc:///?odbc_connect=Driver={SQL Server};Server=192.168.11.102;Database=IDPM;Trusted_Connection=True;\"\n",
    "    )\n",
    "    query = f\"\"\"SELECT SecurityID, ScheduleValue, StartDate, EndDate FROM tblSecuritySchedule WHERE SecurityID = {security_id}\"\"\"\n",
    "\n",
    "    data = pd.read_sql(\n",
    "        db.text(query),\n",
    "        engine.connect(),\n",
    "    )\n",
    "    return data\n",
    "\n",
    "schedule_raw = db_get_schedule(991698)"
   ]
  },
  {
   "cell_type": "code",
   "execution_count": 37,
   "metadata": {},
   "outputs": [
    {
     "data": {
      "text/plain": [
       "Date(7,4,2020)"
      ]
     },
     "execution_count": 37,
     "metadata": {},
     "output_type": "execute_result"
    }
   ],
   "source": [
    "testdate = '20200407'\n",
    "ql.Date(testdate, '%Y%m%d')"
   ]
  },
  {
   "cell_type": "code",
   "execution_count": null,
   "metadata": {},
   "outputs": [],
   "source": []
  }
 ],
 "metadata": {
  "kernelspec": {
   "display_name": ".venv",
   "language": "python",
   "name": "python3"
  },
  "language_info": {
   "codemirror_mode": {
    "name": "ipython",
    "version": 3
   },
   "file_extension": ".py",
   "mimetype": "text/x-python",
   "name": "python",
   "nbconvert_exporter": "python",
   "pygments_lexer": "ipython3",
   "version": "3.11.5"
  }
 },
 "nbformat": 4,
 "nbformat_minor": 2
}
