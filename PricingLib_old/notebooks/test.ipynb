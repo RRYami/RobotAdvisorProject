{
 "cells": [
  {
   "cell_type": "code",
   "execution_count": 14,
   "metadata": {},
   "outputs": [
    {
     "data": {
      "text/plain": [
       "(9.211944296853586, 6.34585373876795)"
      ]
     },
     "execution_count": 14,
     "metadata": {},
     "output_type": "execute_result"
    }
   ],
   "source": [
    "import numpy as np\n",
    "\n",
    "# Option parameters\n",
    "S0 = 100  # Initial stock price\n",
    "K = 100  # Strike price\n",
    "T = 1.0  # Time to maturity in years\n",
    "r = 0.05  # Risk-free interest rate\n",
    "q = 0.02  # Dividend yield\n",
    "sigma = 0.2  # Volatility\n",
    "num_simulations = 1000000  # Number of simulations\n",
    "\n",
    "# Seed for reproducibility\n",
    "np.random.seed(42)\n",
    "\n",
    "# Simulate end-of-period stock prices\n",
    "Z = np.random.standard_normal(num_simulations)  # Standard normal random variables\n",
    "ST = S0 * np.exp(\n",
    "    ((r - q) - 0.5 * sigma**2) * T + sigma * np.sqrt(T) * Z\n",
    ")  # Stock price at maturity\n",
    "\n",
    "# Calculate the payoff at maturity\n",
    "c_payoff = np.maximum(ST - K, 0)\n",
    "p_payoff = np.maximum(K - ST, 0)\n",
    "\n",
    "# Discount the payoff back to present value\n",
    "call_option_price = np.exp(-r * T) * np.mean(c_payoff)\n",
    "put_option_price = np.exp(-r * T) * np.mean(p_payoff)\n",
    "\n",
    "call_option_price, put_option_price"
   ]
  },
  {
   "cell_type": "code",
   "execution_count": 15,
   "metadata": {},
   "outputs": [
    {
     "data": {
      "text/plain": [
       "(9.102387179561426, 6.702017934570528)"
      ]
     },
     "execution_count": 15,
     "metadata": {},
     "output_type": "execute_result"
    }
   ],
   "source": [
    "import numpy as np\n",
    "\n",
    "def price_american_option(S0, K, T, r, sigma, q, num_simulations, num_steps, option_type='put'):\n",
    "    # Time parameters\n",
    "    dt = T / num_steps\n",
    "    discount_factor = np.exp(-r * dt)\n",
    "\n",
    "    # Simulate stock price paths\n",
    "    S = np.zeros((num_simulations, num_steps + 1))\n",
    "    S[:, 0] = S0\n",
    "    for t in range(1, num_steps + 1):\n",
    "        Z = np.random.standard_normal(num_simulations)\n",
    "        S[:, t] = S[:, t-1] * np.exp((r - q - 0.5 * sigma**2) * dt + sigma * np.sqrt(dt) * Z)\n",
    "\n",
    "    # Initialize the payoff matrix\n",
    "    if option_type == 'put':\n",
    "        payoff = np.maximum(K - S, 0)\n",
    "    elif option_type == 'call':\n",
    "        payoff = np.maximum(S - K, 0)\n",
    "    else:\n",
    "        raise ValueError(\"option_type must be 'call' or 'put'\")\n",
    "\n",
    "    # Initialize the cash flow matrix\n",
    "    cash_flow = payoff[:, -1]\n",
    "\n",
    "    # Backward induction to estimate the continuation value\n",
    "    for t in range(num_steps - 1, 0, -1):\n",
    "        in_the_money = payoff[:, t] > 0\n",
    "        # Perform regression only on in-the-money paths\n",
    "        X = S[in_the_money, t]\n",
    "        Y = cash_flow[in_the_money] * discount_factor\n",
    "        if len(X) == 0:\n",
    "            continue\n",
    "        # Basis functions (polynomials)\n",
    "        A = np.vstack([np.ones_like(X), X, X**2]).T\n",
    "        # Least squares regression\n",
    "        coeffs = np.linalg.lstsq(A, Y, rcond=None)[0]\n",
    "        continuation_value = np.dot(A, coeffs)\n",
    "        exercise_value = payoff[in_the_money, t]\n",
    "        # Optimal stopping decision\n",
    "        exercise = exercise_value > continuation_value\n",
    "        cash_flow[in_the_money] = np.where(exercise, exercise_value, cash_flow[in_the_money] * discount_factor)\n",
    "\n",
    "    # Discount the final cash flows back to present value\n",
    "    option_price = np.mean(cash_flow * discount_factor)\n",
    "\n",
    "    return option_price\n",
    "\n",
    "# Option parameters\n",
    "S0 = 100        # Initial stock price\n",
    "K = 100         # Strike price\n",
    "T = 1.0         # Time to maturity in years\n",
    "r = 0.05        # Risk-free interest rate\n",
    "sigma = 0.2     # Volatility\n",
    "q = 0.02        # Continuous dividend yield\n",
    "num_simulations = 100000  # Number of simulations\n",
    "num_steps = 200  # Number of time steps\n",
    "\n",
    "# Seed for reproducibility\n",
    "np.random.seed(42)\n",
    "\n",
    "american_put_price = price_american_option(S0, K, T, r, sigma, q, num_simulations, num_steps, option_type='put')\n",
    "american_call_price = price_american_option(S0, K, T, r, sigma, q, num_simulations, num_steps, option_type='call')\n",
    "\n",
    "american_call_price, american_put_price\n"
   ]
  },
  {
   "cell_type": "code",
   "execution_count": 16,
   "metadata": {},
   "outputs": [
    {
     "data": {
      "text/plain": [
       "(8.032532944701792, 6.389913396399722)"
      ]
     },
     "execution_count": 16,
     "metadata": {},
     "output_type": "execute_result"
    }
   ],
   "source": [
    "import numpy as np\n",
    "from sklearn.tree import DecisionTreeRegressor\n",
    "\n",
    "def price_american_option_decision_tree(S0, K, T, r, sigma, q, num_simulations, num_steps, option_type=None):\n",
    "    # Time parameters\n",
    "    dt = T / num_steps\n",
    "    discount_factor = np.exp(-r * dt)\n",
    "\n",
    "    # Simulate stock price paths\n",
    "    S = np.zeros((num_simulations, num_steps + 1))\n",
    "    S[:, 0] = S0\n",
    "    for t in range(1, num_steps + 1):\n",
    "        Z = np.random.standard_normal(num_simulations)\n",
    "        S[:, t] = S[:, t-1] * np.exp((r - q - 0.5 * sigma**2) * dt + sigma * np.sqrt(dt) * Z)\n",
    "\n",
    "    # Initialize the payoff matrix\n",
    "    if option_type == 'Put':\n",
    "        payoff = np.maximum(K - S, 0)\n",
    "    elif option_type == 'Call':\n",
    "        payoff = np.maximum(S - K, 0)\n",
    "    else:\n",
    "        raise ValueError(\"option_type must be 'Call' or 'Put'\")\n",
    "\n",
    "    # Initialize the cash flow matrix\n",
    "    cash_flow = payoff[:, -1]\n",
    "\n",
    "    # Backward induction to estimate the continuation value\n",
    "    for t in range(num_steps - 1, 0, -1):\n",
    "        in_the_money = payoff[:, t] > 0\n",
    "        # Perform regression only on in-the-money paths\n",
    "        X = S[in_the_money, t].reshape(-1, 1)\n",
    "        Y = cash_flow[in_the_money] * discount_factor\n",
    "        if len(X) == 0:\n",
    "            continue\n",
    "        \n",
    "        # Use DecisionTreeRegressor to estimate continuation value\n",
    "        tree = DecisionTreeRegressor(max_leaf_nodes=10)\n",
    "        tree.fit(X, Y)\n",
    "        continuation_value = tree.predict(X)\n",
    "        \n",
    "        exercise_value = payoff[in_the_money, t]\n",
    "        # Optimal stopping decision\n",
    "        exercise = exercise_value > continuation_value\n",
    "        cash_flow[in_the_money] = np.where(exercise, exercise_value, cash_flow[in_the_money] * discount_factor)\n",
    "\n",
    "    # Discount the final cash flows back to present value\n",
    "    option_price = np.mean(cash_flow * discount_factor)\n",
    "\n",
    "    return option_price\n",
    "\n",
    "# Option parameters\n",
    "S0 = 100        # Initial stock price\n",
    "K = 100         # Strike price\n",
    "T = 1.0         # Time to maturity in years\n",
    "r = 0.05        # Risk-free interest rate\n",
    "sigma = 0.2     # Volatility\n",
    "q = 0.02        # Continuous dividend yield\n",
    "num_simulations = 100000  # Number of simulations\n",
    "num_steps = 50  # Number of time steps\n",
    "\n",
    "# Seed for reproducibility\n",
    "np.random.seed(42)\n",
    "\n",
    "# Price the American put option\n",
    "american_put_price = price_american_option_decision_tree(S0, K, T, r, sigma, q, num_simulations, num_steps, option_type='Put')\n",
    "american_call_price = price_american_option_decision_tree(S0, K, T, r, sigma, q, num_simulations, num_steps, option_type='Call')\n",
    "\n",
    "american_call_price, american_put_price\n"
   ]
  }
 ],
 "metadata": {
  "kernelspec": {
   "display_name": ".venv",
   "language": "python",
   "name": "python3"
  },
  "language_info": {
   "codemirror_mode": {
    "name": "ipython",
    "version": 3
   },
   "file_extension": ".py",
   "mimetype": "text/x-python",
   "name": "python",
   "nbconvert_exporter": "python",
   "pygments_lexer": "ipython3",
   "version": "3.11.5"
  }
 },
 "nbformat": 4,
 "nbformat_minor": 2
}
